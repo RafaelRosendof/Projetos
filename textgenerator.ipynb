{
 "cells": [
  {
   "cell_type": "code",
   "execution_count": 1,
   "id": "22b22920",
   "metadata": {},
   "outputs": [
    {
     "name": "stderr",
     "output_type": "stream",
     "text": [
      "2023-05-24 17:26:16.012726: I tensorflow/core/util/port.cc:110] oneDNN custom operations are on. You may see slightly different numerical results due to floating-point round-off errors from different computation orders. To turn them off, set the environment variable `TF_ENABLE_ONEDNN_OPTS=0`.\n",
      "2023-05-24 17:26:16.045065: I tensorflow/core/platform/cpu_feature_guard.cc:182] This TensorFlow binary is optimized to use available CPU instructions in performance-critical operations.\n",
      "To enable the following instructions: AVX2 AVX512F AVX512_VNNI FMA, in other operations, rebuild TensorFlow with the appropriate compiler flags.\n",
      "2023-05-24 17:26:16.675922: W tensorflow/compiler/tf2tensorrt/utils/py_utils.cc:38] TF-TRT Warning: Could not find TensorRT\n"
     ]
    }
   ],
   "source": [
    "# import tensorflow and other libraries\n",
    "import os\n",
    "import numpy as np\n",
    "import time\n",
    "import tensorflow as tf"
   ]
  },
  {
   "cell_type": "code",
   "execution_count": 2,
   "id": "e1dcaceb",
   "metadata": {},
   "outputs": [
    {
     "name": "stdout",
     "output_type": "stream",
     "text": [
      "[PhysicalDevice(name='/physical_device:GPU:0', device_type='GPU')]\n"
     ]
    },
    {
     "name": "stderr",
     "output_type": "stream",
     "text": [
      "2023-05-24 17:26:17.571588: I tensorflow/compiler/xla/stream_executor/cuda/cuda_gpu_executor.cc:996] successful NUMA node read from SysFS had negative value (-1), but there must be at least one NUMA node, so returning NUMA node zero. See more at https://github.com/torvalds/linux/blob/v6.0/Documentation/ABI/testing/sysfs-bus-pci#L344-L355\n",
      "2023-05-24 17:26:17.596902: I tensorflow/compiler/xla/stream_executor/cuda/cuda_gpu_executor.cc:996] successful NUMA node read from SysFS had negative value (-1), but there must be at least one NUMA node, so returning NUMA node zero. See more at https://github.com/torvalds/linux/blob/v6.0/Documentation/ABI/testing/sysfs-bus-pci#L344-L355\n",
      "2023-05-24 17:26:17.597077: I tensorflow/compiler/xla/stream_executor/cuda/cuda_gpu_executor.cc:996] successful NUMA node read from SysFS had negative value (-1), but there must be at least one NUMA node, so returning NUMA node zero. See more at https://github.com/torvalds/linux/blob/v6.0/Documentation/ABI/testing/sysfs-bus-pci#L344-L355\n"
     ]
    }
   ],
   "source": [
    "# download the Sheakespeare dataset\n",
    "#path_to_file ='a_cristhimas.txt'\n",
    "#if os.path.exists(path_to_file) is False:\n",
    " #   path_to_file =tf.keras.utils.get_file('a_cristhimas.txt', 'file:///home/rafael/Downloads/a_cristhimas.txt')\n",
    "\n",
    "# Read, then decode for py2 compat.\n",
    "#text = open(path_to_file, 'rb').read().decode(encoding='utf-8')\n",
    "\n",
    "# download the Sheakespeare dataset\n",
    "path_to_file ='biblia.txt'\n",
    "if os.path.exists(path_to_file) is False:\n",
    "    path_to_file =tf.keras.utils.get_file(\n",
    "        'biblia.txt', 'file:///home/rafael/Downloads/biblia.txt'\n",
    "        )\n",
    "\n",
    "print(tf.config.list_physical_devices('GPU'))\n"
   ]
  },
  {
   "cell_type": "code",
   "execution_count": 3,
   "id": "def03476",
   "metadata": {},
   "outputs": [
    {
     "name": "stdout",
     "output_type": "stream",
     "text": [
      "Length of text: 185905 characters\n"
     ]
    }
   ],
   "source": [
    "# Read, then decode for py2 compat.\n",
    "text = open(path_to_file, 'rb').read().decode(encoding='utf-8', errors='replace')\n",
    "\n",
    "# length of text is the number of characters in it\n",
    "print(f'Length of text: {len(text)} characters')\n"
   ]
  },
  {
   "cell_type": "code",
   "execution_count": 4,
   "id": "405026b0",
   "metadata": {},
   "outputs": [
    {
     "name": "stdout",
     "output_type": "stream",
     "text": [
      "﻿CAPÍTULO 1 \r\n",
      "Deus cria esta Terra e seu céu e todas  as formas de vida em seis dias — Des crevem-se os atos de criação de cada  dia — Deus cria o homem, macho e  fêmea, à Sua própria imagem — Ao  homem é dado domínio sobre todas as  coisas e ele rec\n"
     ]
    }
   ],
   "source": [
    "# Take a look at the first 250 characters in text\n",
    "print(text[:250])"
   ]
  },
  {
   "cell_type": "code",
   "execution_count": 5,
   "id": "8fd52f5a",
   "metadata": {},
   "outputs": [
    {
     "name": "stdout",
     "output_type": "stream",
     "text": [
      "The data has 95 unique characters\n"
     ]
    }
   ],
   "source": [
    "# The unique characters in the file\n",
    "vocab = sorted(set(text))\n",
    "print(f'The data has {len(vocab)} unique characters')"
   ]
  },
  {
   "cell_type": "code",
   "execution_count": 6,
   "id": "fce58acd",
   "metadata": {},
   "outputs": [
    {
     "name": "stderr",
     "output_type": "stream",
     "text": [
      "2023-05-24 17:26:17.617825: I tensorflow/compiler/xla/stream_executor/cuda/cuda_gpu_executor.cc:996] successful NUMA node read from SysFS had negative value (-1), but there must be at least one NUMA node, so returning NUMA node zero. See more at https://github.com/torvalds/linux/blob/v6.0/Documentation/ABI/testing/sysfs-bus-pci#L344-L355\n",
      "2023-05-24 17:26:17.618031: I tensorflow/compiler/xla/stream_executor/cuda/cuda_gpu_executor.cc:996] successful NUMA node read from SysFS had negative value (-1), but there must be at least one NUMA node, so returning NUMA node zero. See more at https://github.com/torvalds/linux/blob/v6.0/Documentation/ABI/testing/sysfs-bus-pci#L344-L355\n",
      "2023-05-24 17:26:17.618140: I tensorflow/compiler/xla/stream_executor/cuda/cuda_gpu_executor.cc:996] successful NUMA node read from SysFS had negative value (-1), but there must be at least one NUMA node, so returning NUMA node zero. See more at https://github.com/torvalds/linux/blob/v6.0/Documentation/ABI/testing/sysfs-bus-pci#L344-L355\n",
      "2023-05-24 17:26:18.126833: I tensorflow/compiler/xla/stream_executor/cuda/cuda_gpu_executor.cc:996] successful NUMA node read from SysFS had negative value (-1), but there must be at least one NUMA node, so returning NUMA node zero. See more at https://github.com/torvalds/linux/blob/v6.0/Documentation/ABI/testing/sysf"
     ]
    },
    {
     "name": "stdout",
     "output_type": "stream",
     "text": [
      "Text examples: ['Life is not fair.', 'But you have to deal with it.']\n",
      "\n",
      "Tokenized version: <tf.RaggedTensor [[b'L', b'i', b'f', b'e', b' ', b'i', b's', b' ', b'n', b'o', b't', b' ',\n",
      "  b'f', b'a', b'i', b'r', b'.']                                          ,\n",
      " [b'B', b'u', b't', b' ', b'y', b'o', b'u', b' ', b'h', b'a', b'v', b'e',\n",
      "  b' ', b't', b'o', b' ', b'd', b'e', b'a', b'l', b' ', b'w', b'i', b't',\n",
      "  b'h', b' ', b'i', b't', b'.']                                          ]>\n",
      "\n"
     ]
    },
    {
     "name": "stderr",
     "output_type": "stream",
     "text": [
      "s-bus-pci#L344-L355\n",
      "2023-05-24 17:26:18.127002: I tensorflow/compiler/xla/stream_executor/cuda/cuda_gpu_executor.cc:996] successful NUMA node read from SysFS had negative value (-1), but there must be at least one NUMA node, so returning NUMA node zero. See more at https://github.com/torvalds/linux/blob/v6.0/Documentation/ABI/testing/sysfs-bus-pci#L344-L355\n",
      "2023-05-24 17:26:18.127124: I tensorflow/compiler/xla/stream_executor/cuda/cuda_gpu_executor.cc:996] successful NUMA node read from SysFS had negative value (-1), but there must be at least one NUMA node, so returning NUMA node zero. See more at https://github.com/torvalds/linux/blob/v6.0/Documentation/ABI/testing/sysfs-bus-pci#L344-L355\n",
      "2023-05-24 17:26:18.127229: I tensorflow/core/common_runtime/gpu/gpu_device.cc:1635] Created device /job:localhost/replica:0/task:0/device:GPU:0 with 2594 MB memory:  -> device: 0, name: NVIDIA GeForce GTX 1650, pci bus id: 0000:01:00.0, compute capability: 7.5\n"
     ]
    }
   ],
   "source": [
    "# example of text\n",
    "example_texts = ['Life is not fair.', 'But you have to deal with it.']\n",
    "\n",
    "# tokenization\n",
    "chars = tf.strings.unicode_split(example_texts, input_encoding='UTF-8')\n",
    "\n",
    "# print results\n",
    "print(f'Text examples: {example_texts}\\n')\n",
    "print(f'Tokenized version: {chars}\\n')"
   ]
  },
  {
   "cell_type": "code",
   "execution_count": 7,
   "id": "6f842060",
   "metadata": {},
   "outputs": [],
   "source": [
    "# Now create the tf.keras.layers.StringLookup layer:\n",
    "ids_from_chars = tf.keras.layers.StringLookup(\n",
    "    vocabulary=list(vocab),\n",
    "    mask_token=None)"
   ]
  },
  {
   "cell_type": "code",
   "execution_count": 8,
   "id": "686a0c95",
   "metadata": {},
   "outputs": [
    {
     "name": "stdout",
     "output_type": "stream",
     "text": [
      "These are the ids of the examples above: <tf.RaggedTensor [[34, 56, 53, 52, 3, 56, 65, 3, 60, 61, 66, 3, 53, 48, 56, 64, 10],\n",
      " [25, 67, 66, 3, 70, 61, 67, 3, 55, 48, 68, 52, 3, 66, 61, 3, 51, 52, 48,\n",
      "  58, 3, 0, 56, 66, 55, 3, 56, 66, 10]                                   ]>\n",
      "\n"
     ]
    }
   ],
   "source": [
    "# Use the layer above to convert characters into numbers\n",
    "ids = ids_from_chars(chars)\n",
    "print(f'These are the ids of the examples above: {ids}\\n')"
   ]
  },
  {
   "cell_type": "code",
   "execution_count": 9,
   "id": "5f82b69c",
   "metadata": {},
   "outputs": [],
   "source": [
    "# create the inversion layer\n",
    "chars_from_ids = tf.keras.layers.StringLookup(\n",
    "    vocabulary=ids_from_chars.get_vocabulary(),\n",
    "    invert=True,\n",
    "    mask_token=None)"
   ]
  },
  {
   "cell_type": "code",
   "execution_count": 10,
   "id": "0f3a96c5",
   "metadata": {},
   "outputs": [
    {
     "name": "stdout",
     "output_type": "stream",
     "text": [
      "These are the chars converted from ids: <tf.RaggedTensor [[b'L', b'i', b'f', b'e', b' ', b'i', b's', b' ', b'n', b'o', b't', b' ',\n",
      "  b'f', b'a', b'i', b'r', b'.']                                          ,\n",
      " [b'B', b'u', b't', b' ', b'y', b'o', b'u', b' ', b'h', b'a', b'v', b'e',\n",
      "  b' ', b't', b'o', b' ', b'd', b'e', b'a', b'l', b' ', b'[UNK]', b'i',\n",
      "  b't', b'h', b' ', b'i', b't', b'.']                                    ]>\n",
      "\n"
     ]
    }
   ],
   "source": [
    "# convert the ids back into characters\n",
    "chars = chars_from_ids(ids)\n",
    "print(f'These are the chars converted from ids: {chars}\\n')"
   ]
  },
  {
   "cell_type": "code",
   "execution_count": 11,
   "id": "cf462604",
   "metadata": {},
   "outputs": [
    {
     "name": "stdout",
     "output_type": "stream",
     "text": [
      "These are the examples (text) recoved from ids: [b'Life is not fair.' b'But you have to deal [UNK]ith it.']\n",
      "\n"
     ]
    }
   ],
   "source": [
    "# You can tf.strings.reduce_join to join the characters back into strings.\n",
    "def text_from_ids(ids):\n",
    "  return tf.strings.reduce_join(chars_from_ids(ids), axis=-1)\n",
    "\n",
    "# let's test it\n",
    "t1 = text_from_ids(ids)\n",
    "print(f'These are the examples (text) recoved from ids: {t1}\\n')"
   ]
  },
  {
   "cell_type": "code",
   "execution_count": 12,
   "id": "9731e1f3",
   "metadata": {},
   "outputs": [
    {
     "name": "stdout",
     "output_type": "stream",
     "text": [
      "These are the indices from the entire text : [95 26 24 ... 48 65  8]\n",
      "\n",
      "Number of indices : 185905\n",
      "\n"
     ]
    }
   ],
   "source": [
    "# text -> stream of indices from the entire text.\n",
    "all_ids = ids_from_chars(tf.strings.unicode_split(text, 'UTF-8'))\n",
    "print(f'These are the indices from the entire text : {all_ids}\\n')\n",
    "print(f'Number of indices : {len(all_ids)}\\n')"
   ]
  },
  {
   "cell_type": "code",
   "execution_count": 13,
   "id": "833d8bf7",
   "metadata": {},
   "outputs": [],
   "source": [
    "# Creates a dataset of indices\n",
    "ids_dataset = tf.data.Dataset.from_tensor_slices(all_ids)"
   ]
  },
  {
   "cell_type": "code",
   "execution_count": 14,
   "id": "7ef5b604",
   "metadata": {},
   "outputs": [
    {
     "name": "stdout",
     "output_type": "stream",
     "text": [
      "id: 95, corresponding character: ﻿\n",
      "id: 26, corresponding character: C\n",
      "id: 24, corresponding character: A\n",
      "id: 38, corresponding character: P\n",
      "id: 77, corresponding character: Í\n",
      "id: 42, corresponding character: T\n",
      "id: 43, corresponding character: U\n",
      "id: 34, corresponding character: L\n",
      "id: 37, corresponding character: O\n",
      "id: 3, corresponding character:  \n",
      "id: 12, corresponding character: 1\n",
      "id: 3, corresponding character:  \n",
      "id: 2, corresponding character: \r\n",
      "id: 1, corresponding character: \n",
      "\n",
      "id: 27, corresponding character: D\n"
     ]
    },
    {
     "name": "stderr",
     "output_type": "stream",
     "text": [
      "2023-05-24 17:26:18.403916: I tensorflow/core/common_runtime/executor.cc:1197] [/device:CPU:0] (DEBUG INFO) Executor start aborting (this does not indicate an error and you can ignore this message): INVALID_ARGUMENT: You must feed a value for placeholder tensor 'Placeholder/_0' with dtype int64 and shape [185905]\n",
      "\t [[{{node Placeholder/_0}}]]\n"
     ]
    }
   ],
   "source": [
    "# Let's check on the what the dataset gives us\n",
    "for ids in ids_dataset.take(15):\n",
    "    print(f'id: {ids}, corresponding character: {chars_from_ids(ids).numpy().decode(\"utf-8\")}')"
   ]
  },
  {
   "cell_type": "code",
   "execution_count": 15,
   "id": "20a7bbda",
   "metadata": {},
   "outputs": [],
   "source": [
    "# size of the textual sequences to be used\n",
    "seq_length = 200"
   ]
  },
  {
   "cell_type": "code",
   "execution_count": 16,
   "id": "252b8580",
   "metadata": {},
   "outputs": [
    {
     "name": "stderr",
     "output_type": "stream",
     "text": [
      "2023-05-24 17:26:18.435073: I tensorflow/core/common_runtime/executor.cc:1197] [/device:CPU:0] (DEBUG INFO) Executor start aborting (this does not indicate an error and you can ignore this message): INVALID_ARGUMENT: You must feed a value for placeholder tensor 'Placeholder/_0' with dtype int64 and shape [185905]\n",
      "\t [[{{node Placeholder/_0}}]]\n"
     ]
    },
    {
     "name": "stdout",
     "output_type": "stream",
     "text": [
      "tf.Tensor(\n",
      "[b'\\xef\\xbb\\xbf' b'C' b'A' b'P' b'\\xc3\\x8d' b'T' b'U' b'L' b'O' b' ' b'1'\n",
      " b' ' b'\\r' b'\\n' b'D' b'e' b'u' b's' b' ' b'c' b'r' b'i' b'a' b' ' b'e'\n",
      " b's' b't' b'a' b' ' b'T' b'e' b'r' b'r' b'a' b' ' b'e' b' ' b's' b'e'\n",
      " b'u' b' ' b'c' b'\\xc3\\xa9' b'u' b' ' b'e' b' ' b't' b'o' b'd' b'a' b's'\n",
      " b' ' b' ' b'a' b's' b' ' b'f' b'o' b'r' b'm' b'a' b's' b' ' b'd' b'e'\n",
      " b' ' b'v' b'i' b'd' b'a' b' ' b'e' b'm' b' ' b's' b'e' b'i' b's' b' '\n",
      " b'd' b'i' b'a' b's' b' ' b'\\xe2\\x80\\x94' b' ' b'D' b'e' b's' b' ' b'c'\n",
      " b'r' b'e' b'v' b'e' b'm' b'-' b's' b'e' b' ' b'o' b's' b' ' b'a' b't'\n",
      " b'o' b's' b' ' b'd' b'e' b' ' b'c' b'r' b'i' b'a' b'\\xc3\\xa7' b'\\xc3\\xa3'\n",
      " b'o' b' ' b'd' b'e' b' ' b'c' b'a' b'd' b'a' b' ' b' ' b'd' b'i' b'a'\n",
      " b' ' b'\\xe2\\x80\\x94' b' ' b'D' b'e' b'u' b's' b' ' b'c' b'r' b'i' b'a'\n",
      " b' ' b'o' b' ' b'h' b'o' b'm' b'e' b'm' b',' b' ' b'm' b'a' b'c' b'h'\n",
      " b'o' b' ' b'e' b' ' b' ' b'f' b'\\xc3\\xaa' b'm' b'e' b'a' b',' b' '\n",
      " b'\\xc3\\xa0' b' ' b'S' b'u' b'a' b' ' b'p' b'r' b'\\xc3\\xb3' b'p' b'r' b'i'\n",
      " b'a' b' ' b'i' b'm' b'a' b'g' b'e' b'm' b' ' b'\\xe2\\x80\\x94' b' ' b'A'\n",
      " b'o' b' ' b' ' b'h' b'o' b'm' b'e'], shape=(201,), dtype=string)\n"
     ]
    }
   ],
   "source": [
    "# The batch method lets you easily convert these individual characters to sequences of the desired size.\n",
    "sequences = ids_dataset.batch(seq_length+1, drop_remainder=True)\n",
    "\n",
    "for seq in sequences.take(1):\n",
    "  print(chars_from_ids(seq))"
   ]
  },
  {
   "cell_type": "code",
   "execution_count": 17,
   "id": "061d0731",
   "metadata": {},
   "outputs": [
    {
     "name": "stdout",
     "output_type": "stream",
     "text": [
      "b'\\xef\\xbb\\xbfCAP\\xc3\\x8dTULO 1 \\r\\nDeus cria esta Terra e seu c\\xc3\\xa9u e todas  as formas de vida em seis dias \\xe2\\x80\\x94 Des crevem-se os atos de cria\\xc3\\xa7\\xc3\\xa3o de cada  dia \\xe2\\x80\\x94 Deus cria o homem, macho e  f\\xc3\\xaamea, \\xc3\\xa0 Sua pr\\xc3\\xb3pria imagem \\xe2\\x80\\x94 Ao  home'\n",
      "b'm \\xc3\\xa9 dado dom\\xc3\\xadnio sobre todas as  coisas e ele recebe mandamento de se  multiplicar e de encher a Terra. \\r\\nNO aprinc\\xc3\\xadpio, bDeus ccriou os  \\r\\ndc\\xc3\\xa9us e a eterra. \\r\\n2 E a terra era sem a forma e  vazia; e h'\n",
      "b'avia trevas sobre a face  do abismo; e o Esp\\xc3\\xadrito de Deus  se movia sobre a face das \\xc3\\xa1guas. \\r\\n3 E disse Deus: Haja aluz; e  houve luz. \\r\\n4 E viu Deus que era aboa a luz;  e fez Deus separa\\xc3\\xa7\\xc3\\xa3o entre a l'\n",
      "b'uz  e as trevas. \\r\\n5 E Deus chamou \\xc3\\xa0 luz Dia; e \\xc3\\xa0s  trevas chamou Noite. E foi a tarde  e a manh\\xc3\\xa3, o adia primeiro. \\r\\n6 E disse Deus: Haja uma aex pans\\xc3\\xa3o no meio das \\xc3\\xa1guas, e haja  separa\\xc3\\xa7\\xc3\\xa3o entre \\xc3\\xa1gua'\n",
      "b's e \\xc3\\xa1guas. \\r\\n7 E fez Deus a expans\\xc3\\xa3o, e fez  separa\\xc3\\xa7\\xc3\\xa3o entre as \\xc3\\xa1guas que es tavam debaixo da expans\\xc3\\xa3o e as  \\r\\n\\xc3\\xa1guas que estavam sobre a expan s\\xc3\\xa3o; e assim foi. \\r\\n8 E chamou Deus \\xc3\\xa0 expans\\xc3\\xa3o aC\\xc3\\xa9us, e fo'\n"
     ]
    },
    {
     "name": "stderr",
     "output_type": "stream",
     "text": [
      "2023-05-24 17:26:18.444145: I tensorflow/core/common_runtime/executor.cc:1197] [/device:CPU:0] (DEBUG INFO) Executor start aborting (this does not indicate an error and you can ignore this message): INVALID_ARGUMENT: You must feed a value for placeholder tensor 'Placeholder/_0' with dtype int64 and shape [185905]\n",
      "\t [[{{node Placeholder/_0}}]]\n"
     ]
    }
   ],
   "source": [
    "# It's easier to see what this is doing if you join the tokens back into strings:\n",
    "for seq in sequences.take(5):\n",
    "  print(text_from_ids(seq).numpy())"
   ]
  },
  {
   "cell_type": "code",
   "execution_count": 18,
   "id": "69bc068c",
   "metadata": {},
   "outputs": [
    {
     "name": "stdout",
     "output_type": "stream",
     "text": [
      "If my input is \"Tensorflow\":\n",
      " Input: ['T', 'e', 'n', 's', 'o', 'r', 'f', 'l', 'o']\n",
      "Output: ['e', 'n', 's', 'o', 'r', 'f', 'l', 'o', 'w']\n"
     ]
    }
   ],
   "source": [
    "# Here's a function that takes a sequence as input, duplicates,\n",
    "# and shifts it to align the input and label for each timestep:\n",
    "def split_input_target(sequence):\n",
    "    input_text = sequence[:-1]\n",
    "    target_text = sequence[1:]\n",
    "    return input_text, target_text\n",
    "\n",
    "# let's test it\n",
    "o1 = split_input_target(list(\"Tensorflow\"))\n",
    "print(f'If my input is \\\"Tensorflow\\\":\\n Input: {o1[0]}\\nOutput: {o1[1]}')"
   ]
  },
  {
   "cell_type": "code",
   "execution_count": 19,
   "id": "acb6775b",
   "metadata": {},
   "outputs": [],
   "source": [
    "# apply that function to the dataset we created\n",
    "dataset = sequences.map(split_input_target)"
   ]
  },
  {
   "cell_type": "code",
   "execution_count": 20,
   "id": "f00f67dd",
   "metadata": {},
   "outputs": [
    {
     "name": "stdout",
     "output_type": "stream",
     "text": [
      "Input :\n",
      " b'\\xef\\xbb\\xbfCAP\\xc3\\x8dTULO 1 \\r\\nDeus cria esta Terra e seu c\\xc3\\xa9u e todas  as formas de vida em seis dias \\xe2\\x80\\x94 Des crevem-se os atos de cria\\xc3\\xa7\\xc3\\xa3o de cada  dia \\xe2\\x80\\x94 Deus cria o homem, macho e  f\\xc3\\xaamea, \\xc3\\xa0 Sua pr\\xc3\\xb3pria imagem \\xe2\\x80\\x94 Ao  hom'\n",
      "Target:\n",
      " b'CAP\\xc3\\x8dTULO 1 \\r\\nDeus cria esta Terra e seu c\\xc3\\xa9u e todas  as formas de vida em seis dias \\xe2\\x80\\x94 Des crevem-se os atos de cria\\xc3\\xa7\\xc3\\xa3o de cada  dia \\xe2\\x80\\x94 Deus cria o homem, macho e  f\\xc3\\xaamea, \\xc3\\xa0 Sua pr\\xc3\\xb3pria imagem \\xe2\\x80\\x94 Ao  home'\n",
      "Input :\n",
      " b'm \\xc3\\xa9 dado dom\\xc3\\xadnio sobre todas as  coisas e ele recebe mandamento de se  multiplicar e de encher a Terra. \\r\\nNO aprinc\\xc3\\xadpio, bDeus ccriou os  \\r\\ndc\\xc3\\xa9us e a eterra. \\r\\n2 E a terra era sem a forma e  vazia; e '\n",
      "Target:\n",
      " b' \\xc3\\xa9 dado dom\\xc3\\xadnio sobre todas as  coisas e ele recebe mandamento de se  multiplicar e de encher a Terra. \\r\\nNO aprinc\\xc3\\xadpio, bDeus ccriou os  \\r\\ndc\\xc3\\xa9us e a eterra. \\r\\n2 E a terra era sem a forma e  vazia; e h'\n"
     ]
    },
    {
     "name": "stderr",
     "output_type": "stream",
     "text": [
      "2023-05-24 17:26:18.489733: I tensorflow/core/common_runtime/executor.cc:1197] [/device:CPU:0] (DEBUG INFO) Executor start aborting (this does not indicate an error and you can ignore this message): INVALID_ARGUMENT: You must feed a value for placeholder tensor 'Placeholder/_0' with dtype int64 and shape [185905]\n",
      "\t [[{{node Placeholder/_0}}]]\n"
     ]
    }
   ],
   "source": [
    "# letś test i\n",
    "for input_example, target_example in dataset.take(2):\n",
    "    print(f'Input :\\n {text_from_ids(input_example).numpy()}')\n",
    "    print(f'Target:\\n {text_from_ids(target_example).numpy()}')"
   ]
  },
  {
   "cell_type": "code",
   "execution_count": 21,
   "id": "eeacb168",
   "metadata": {},
   "outputs": [
    {
     "data": {
      "text/plain": [
       "<_PrefetchDataset element_spec=(TensorSpec(shape=(64, 200), dtype=tf.int64, name=None), TensorSpec(shape=(64, 200), dtype=tf.int64, name=None))>"
      ]
     },
     "execution_count": 21,
     "metadata": {},
     "output_type": "execute_result"
    }
   ],
   "source": [
    "# Batch size\n",
    "BATCH_SIZE = 64\n",
    "\n",
    "# Buffer size to shuffle the dataset\n",
    "# (TF data is designed to work with possibly infinite sequences,\n",
    "# so it doesn't attempt to shuffle the entire sequence in memory. Instead,\n",
    "# it maintains a buffer in which it shuffles elements).\n",
    "BUFFER_SIZE = 10000\n",
    "\n",
    "dataset = (\n",
    "    dataset\n",
    "    .shuffle(BUFFER_SIZE)\n",
    "    .batch(BATCH_SIZE, drop_remainder=True)\n",
    "    .prefetch(tf.data.experimental.AUTOTUNE))\n",
    "\n",
    "dataset"
   ]
  },
  {
   "cell_type": "code",
   "execution_count": 47,
   "id": "42ba6145",
   "metadata": {},
   "outputs": [],
   "source": [
    "# Length of the vocabulary in StringLookup Layer\n",
    "vocab_size = len(ids_from_chars.get_vocabulary())\n",
    "\n",
    "# The embedding dimension\n",
    "embedding_dim = 512\n",
    "\n",
    "# Number of RNN units\n",
    "rnn_units = 1024"
   ]
  },
  {
   "cell_type": "code",
   "execution_count": 48,
   "id": "02ea268d",
   "metadata": {},
   "outputs": [],
   "source": [
    "# the model\n",
    "class MyModel(tf.keras.Model):\n",
    "    def __init__(self,\n",
    "                 vocab_size,\n",
    "                 embedding_dim,\n",
    "                 rnn_units):\n",
    "        super().__init__(self)\n",
    "    \n",
    "        self.embedding = tf.keras.layers.Embedding(vocab_size, embedding_dim)\n",
    "        \n",
    "        self.conv1d = tf.keras.layers.Conv1D(filters=16, kernel_size=8, padding='same', activation='relu')\n",
    "        \n",
    "        self.gru1 = tf.keras.layers.GRU(rnn_units, return_sequences=True, return_state=True)\n",
    "        \n",
    "        #self.gru2 = tf.keras.layers.GRU(rnn_units, return_sequences=True, return_state=True)\n",
    "        \n",
    "        #self.gru3 = tf.keras.layers.GRU(rnn_units, return_sequences=True, return_state=True)\n",
    "        \n",
    "        #self.gru4 = tf.keras.layers.GRU(rnn_units, return_sequences=True, return_state=True)\n",
    "        #self.lstm1= tf.keras.layers.LSTM(rnn_units, return_sequences=False, return_state=True)\n",
    "        #self.lstm2= tf.keras.layers.LSTM(rnn_units, return_sequences=False, return_state=True)\n",
    "        self.dense = tf.keras.layers.Dense(vocab_size)\n",
    "\n",
    "    def call(self,\n",
    "             inputs,\n",
    "             states=None,\n",
    "             return_state=False,\n",
    "             training=False):\n",
    "        \n",
    "        x = inputs\n",
    "        x = self.embedding(x, training=training)\n",
    "        \n",
    "        #x= self.conv1d(x)\n",
    "        \n",
    "        \n",
    "        if states is None:\n",
    "            \n",
    "            \n",
    "            \n",
    "            states = self.gru1.get_initial_state(x)\n",
    "        x, states = self.gru1(x, initial_state=states, training=training)\n",
    "        \n",
    "        #states = self.gru2.get_initial_state(x)\n",
    "        #x, states = self.gru2(x, initial_state=states, training=training)\n",
    "        \n",
    "        #states = self.gru3.get_initial_state(x)\n",
    "        #x, states = self.gru3(x, initial_state=states, training=training)\n",
    "        \n",
    "        #states = self.gru4.get_initial_state(x) \n",
    "        #x, states = self.gru4(x, initial_state=states, training=training)\n",
    "       \n",
    "        \n",
    "        x = self.dense(x, training=training)\n",
    "        \n",
    "        if return_state:\n",
    "            return x, states\n",
    "        else:\n",
    "            return x\n",
    "\n"
   ]
  },
  {
   "cell_type": "code",
   "execution_count": 49,
   "id": "c128f4b5",
   "metadata": {},
   "outputs": [],
   "source": [
    "# load model\n",
    "model = MyModel(\n",
    "    vocab_size=vocab_size,\n",
    "    embedding_dim=embedding_dim,\n",
    "    rnn_units=rnn_units)"
   ]
  },
  {
   "cell_type": "code",
   "execution_count": 50,
   "id": "f6972e0c",
   "metadata": {},
   "outputs": [
    {
     "name": "stderr",
     "output_type": "stream",
     "text": [
      "2023-05-24 17:36:11.988152: I tensorflow/core/common_runtime/executor.cc:1197] [/device:CPU:0] (DEBUG INFO) Executor start aborting (this does not indicate an error and you can ignore this message): INVALID_ARGUMENT: You must feed a value for placeholder tensor 'Placeholder/_0' with dtype int64 and shape [185905]\n",
      "\t [[{{node Placeholder/_0}}]]\n",
      "2023-05-24 17:36:11.988677: I tensorflow/core/common_runtime/executor.cc:1197] [/device:CPU:0] (DEBUG INFO) Executor start aborting (this does not indicate an error and you can ignore this message): INVALID_ARGUMENT: You must feed a value for placeholder tensor 'Placeholder/_0' with dtype int64 and shape [185905]\n",
      "\t [[{{node Placeholder/_0}}]]\n"
     ]
    },
    {
     "name": "stdout",
     "output_type": "stream",
     "text": [
      "(64, 200, 96) # (batch_size, sequence_length, vocab_size)\n"
     ]
    }
   ],
   "source": [
    "# First check the shape of the output:\n",
    "for input_example_batch, target_example_batch in dataset.take(1):\n",
    "    example_batch_predictions = model(input_example_batch)\n",
    "    print(example_batch_predictions.shape, \"# (batch_size, sequence_length, vocab_size)\")"
   ]
  },
  {
   "cell_type": "code",
   "execution_count": 51,
   "id": "dd1ec2e4",
   "metadata": {},
   "outputs": [
    {
     "name": "stdout",
     "output_type": "stream",
     "text": [
      "Model: \"my_model_1\"\n",
      "_________________________________________________________________\n",
      " Layer (type)                Output Shape              Param #   \n",
      "=================================================================\n",
      " embedding_2 (Embedding)     multiple                  49152     \n",
      "                                                                 \n",
      " conv1d_2 (Conv1D)           multiple                  0 (unused)\n",
      "                                                                 \n",
      " gru_4 (GRU)                 multiple                  4724736   \n",
      "                                                                 \n",
      " dense_2 (Dense)             multiple                  98400     \n",
      "                                                                 \n",
      "=================================================================\n",
      "Total params: 4,872,288\n",
      "Trainable params: 4,872,288\n",
      "Non-trainable params: 0\n",
      "_________________________________________________________________\n"
     ]
    }
   ],
   "source": [
    "# let's take a look at the summary\n",
    "model.summary()"
   ]
  },
  {
   "cell_type": "code",
   "execution_count": 52,
   "id": "8d2c58d2",
   "metadata": {},
   "outputs": [
    {
     "name": "stdout",
     "output_type": "stream",
     "text": [
      "These are indices taken from the output of the model: [84  1 24 88  9  6 33 82 85 48 54 35 20 78 50 70 70 58 13 88 59 93  7 94\n",
      " 85 82 43 92 41 16 51 35 12 61 80 57 35 39 38 14 41 36 62 78 91 28 94 57\n",
      " 86 92 16  5 93 11 12 25 49 15 53  9  3 93 63 35 60 65 12 66 27 94 19 30\n",
      "  4 83 59 54 78 57 93  8 82 47 92 30 18  0 37 73 39  4 21 57 89 67 34 68\n",
      " 63 72 85  2  2 40 69 32 13  8 66 11 63 28 89 56 92 87  4  6 40 59 21 66\n",
      " 79 42 78 46 51 35 62 19 64 27 13 43 12 76 38 48 18 61 87 87  6 58 61 35\n",
      " 88 71 74 86 27 12 38 75 50 27 23 80 35 90  1 94 56 78 59 91 66 76 44 29\n",
      " 45 78 58 38  0 16 27 48 33 31 65  6 66 27 64 13 10  3 67 67 75 11 91 85\n",
      " 36 50 18 70 83 48 76 28]\n",
      "\n"
     ]
    }
   ],
   "source": [
    "# let's draw one sample\n",
    "sampled_indices = tf.random.categorical(example_batch_predictions[0], num_samples=1)\n",
    "\n",
    "# transform that into a numpy sequence\n",
    "sampled_indices = tf.squeeze(sampled_indices, axis=-1).numpy()\n",
    "\n",
    "# print it\n",
    "print(f'These are indices taken from the output of the model: {sampled_indices}\\n')"
   ]
  },
  {
   "cell_type": "code",
   "execution_count": 53,
   "id": "897781f6",
   "metadata": {},
   "outputs": [
    {
     "name": "stdout",
     "output_type": "stream",
     "text": [
      "Input:\n",
      ", b'9 Disse mais Jac\\xc3\\xb3: aDeus de meu  pai Abra\\xc3\\xa3o, e Deus de meu pai Isa que, o SENHOR, que me disseste:  Retorna \\xc3\\xa0 tua terra, e \\xc3\\xa0 tua paren tela, e far-te-ei bem; \\r\\n10 aMenor sou eu que todas as  bbenevol\\xc3\\xaa'\n",
      "\n",
      "Next Char Predictions:\n",
      ", b'\\xc3\\xa9\\nA\\xc3\\xb4-(J\\xc3\\xa3\\xc3\\xaaagM9\\xc3\\x93cyyl2\\xc3\\xb4m\\xe2\\x80\\x9c)\\xe2\\x80\\x9d\\xc3\\xaa\\xc3\\xa3U\\xe2\\x80\\x94S5dM1o\\xc3\\xa1jMQP3SNp\\xc3\\x93\\xe2\\x80\\x93E\\xe2\\x80\\x9dj\\xc3\\xad\\xe2\\x80\\x945&\\xe2\\x80\\x9c01Bb4f- \\xe2\\x80\\x9cqMns1tD\\xe2\\x80\\x9d8G!\\xc3\\xa7mg\\xc3\\x93j\\xe2\\x80\\x9c,\\xc3\\xa3]\\xe2\\x80\\x94G7[UNK]O\\xc3\\x81Q!:j\\xc3\\xb5uLvq\\xc3\\x80\\xc3\\xaa\\r\\rRxI2,t0qE\\xc3\\xb5i\\xe2\\x80\\x94\\xc3\\xb3!(Rm:t\\xc3\\xa0T\\xc3\\x93[dMp8rD2U1\\xc3\\x8aPa7o\\xc3\\xb3\\xc3\\xb3(loM\\xc3\\xb4z\\xc3\\x83\\xc3\\xadD1P\\xc3\\x89cD?\\xc3\\xa1M\\xc3\\xba\\n\\xe2\\x80\\x9di\\xc3\\x93m\\xe2\\x80\\x93t\\xc3\\x8aVFZ\\xc3\\x93lP[UNK]5DaJHs(tDr2. uu\\xc3\\x890\\xe2\\x80\\x93\\xc3\\xaaNc7y\\xc3\\xa7a\\xc3\\x8aE'\n"
     ]
    }
   ],
   "source": [
    "# Decode these to see the text predicted by this untrained model:\n",
    "print(f'Input:\\n, {text_from_ids(input_example_batch[0]).numpy()}\\n')\n",
    "print(f'Next Char Predictions:\\n, {text_from_ids(sampled_indices).numpy()}')"
   ]
  },
  {
   "cell_type": "code",
   "execution_count": 54,
   "id": "572f2d41",
   "metadata": {},
   "outputs": [],
   "source": [
    "# cost function\n",
    "loss = tf.losses.SparseCategoricalCrossentropy(from_logits=True)"
   ]
  },
  {
   "cell_type": "code",
   "execution_count": 55,
   "id": "3774fedf",
   "metadata": {},
   "outputs": [
    {
     "name": "stdout",
     "output_type": "stream",
     "text": [
      "Prediction shape: (64, 200, 96)\n",
      "Mean loss:        4.565033435821533\n"
     ]
    }
   ],
   "source": [
    "# test the cost function on a batch of samples\n",
    "example_batch_mean_loss = loss(target_example_batch, example_batch_predictions)\n",
    "print(f'Prediction shape: {example_batch_predictions.shape}') # (batch_size, sequence_length, vocab_size)\")\n",
    "print(f'Mean loss:        {example_batch_mean_loss}')"
   ]
  },
  {
   "cell_type": "code",
   "execution_count": 56,
   "id": "8d070f28",
   "metadata": {},
   "outputs": [
    {
     "data": {
      "text/plain": [
       "96.06581"
      ]
     },
     "execution_count": 56,
     "metadata": {},
     "output_type": "execute_result"
    }
   ],
   "source": [
    "tf.exp(example_batch_mean_loss).numpy()"
   ]
  },
  {
   "cell_type": "code",
   "execution_count": 57,
   "id": "15e8be47",
   "metadata": {},
   "outputs": [],
   "source": [
    "# model compilation\n",
    "model.compile(optimizer='adam', loss=loss)"
   ]
  },
  {
   "cell_type": "code",
   "execution_count": 58,
   "id": "b99b8cf9",
   "metadata": {},
   "outputs": [],
   "source": [
    "# Directory where the checkpoints will be saved\n",
    "checkpoint_dir = './training_checkpoints'\n",
    "\n",
    "# Name of the checkpoint files\n",
    "checkpoint_prefix = os.path.join(checkpoint_dir, \"ckpt_{epoch}\")\n",
    "\n",
    "checkpoint_callback = tf.keras.callbacks.ModelCheckpoint(\n",
    "    filepath=checkpoint_prefix,\n",
    "    save_weights_only=True)"
   ]
  },
  {
   "cell_type": "code",
   "execution_count": 59,
   "id": "26d518b0",
   "metadata": {},
   "outputs": [],
   "source": [
    "# number of epochs\n",
    "EPOCHS = 100"
   ]
  },
  {
   "cell_type": "code",
   "execution_count": 60,
   "id": "5bb0a05c",
   "metadata": {},
   "outputs": [
    {
     "name": "stdout",
     "output_type": "stream",
     "text": [
      "Epoch 1/100\n"
     ]
    },
    {
     "name": "stderr",
     "output_type": "stream",
     "text": [
      "2023-05-24 17:36:33.494711: I tensorflow/core/common_runtime/executor.cc:1197] [/device:CPU:0] (DEBUG INFO) Executor start aborting (this does not indicate an error and you can ignore this message): INVALID_ARGUMENT: You must feed a value for placeholder tensor 'gradients/split_2_grad/concat/split_2/split_dim' with dtype int32\n",
      "\t [[{{node gradients/split_2_grad/concat/split_2/split_dim}}]]\n",
      "2023-05-24 17:36:33.495770: I tensorflow/core/common_runtime/executor.cc:1197] [/device:CPU:0] (DEBUG INFO) Executor start aborting (this does not indicate an error and you can ignore this message): INVALID_ARGUMENT: You must feed a value for placeholder tensor 'gradients/split_grad/concat/split/split_dim' with dtype int32\n",
      "\t [[{{node gradients/split_grad/concat/split/split_dim}}]]\n",
      "2023-05-24 17:36:33.496450: I tensorflow/core/common_runtime/executor.cc:1197] [/device:CPU:0] (DEBUG INFO) Executor start aborting (this does not indicate an error and you can ignore this message): INVALID_ARGUMENT: You must feed a value for placeholder tensor 'gradients/split_1_grad/concat/split_1/split_dim' with dtype int32\n",
      "\t [[{{node gradients/split_1_grad/concat/split_1/split_dim}}]]\n",
      "2023-05-24 17:36:33.769876: I tensorflow/core/common_runtime/executor.cc:1197] [/device:CPU:0] (DEBUG INFO) Executor start aborting (this does not indicate an error and you can ignore this message): INVALID_ARGUMENT: You must feed a value for placeholder tensor 'gradients/split_2_grad/concat/split_2/split_dim' with dtype int32\n",
      "\t [[{{node gradients/split_2_grad/concat/split_2/split_dim}}]]\n",
      "2023-05-24 17:36:33.770869: I tensorflow/core/common_runtime/executor.cc:1197] [/device:CPU:0] (DEBUG INFO) Executor start aborting (this does not indicate an error and you can ignore this message): INVALID_ARGUMENT: You must feed a value for placeholder tensor 'gradients/split_grad/concat/split/split_dim' with dtype int32\n",
      "\t [[{{node gradients/split_grad/concat/split/split_dim}}]]\n",
      "2023-05-24 17:36:33.771552: I tensorflow/core/common_runtime/executor.cc:1197] [/device:CPU:0] (DEBUG INFO) Executor start aborting (this does not indicate an error and you can ignore this message): INVALID_ARGUMENT: You must feed a value for placeholder tensor 'gradients/split_1_grad/concat/split_1/split_dim' with dtype int32\n",
      "\t [[{{node gradients/split_1_grad/concat/split_1/split_dim}}]]\n"
     ]
    },
    {
     "name": "stdout",
     "output_type": "stream",
     "text": [
      "14/14 [==============================] - 4s 242ms/step - loss: 4.6498\n",
      "Epoch 2/100\n",
      "14/14 [==============================] - 3s 242ms/step - loss: 3.5263\n",
      "Epoch 3/100\n",
      "14/14 [==============================] - 4s 243ms/step - loss: 2.8956\n",
      "Epoch 4/100\n",
      "14/14 [==============================] - 4s 245ms/step - loss: 2.6018\n",
      "Epoch 5/100\n",
      "14/14 [==============================] - 4s 244ms/step - loss: 2.4177\n",
      "Epoch 6/100\n",
      "14/14 [==============================] - 4s 245ms/step - loss: 2.3020\n",
      "Epoch 7/100\n",
      "14/14 [==============================] - 4s 244ms/step - loss: 2.2197\n",
      "Epoch 8/100\n",
      "14/14 [==============================] - 4s 245ms/step - loss: 2.1539\n",
      "Epoch 9/100\n",
      "14/14 [==============================] - 4s 246ms/step - loss: 2.0953\n",
      "Epoch 10/100\n",
      "14/14 [==============================] - 4s 245ms/step - loss: 2.0383\n",
      "Epoch 11/100\n",
      "14/14 [==============================] - 4s 245ms/step - loss: 1.9833\n",
      "Epoch 12/100\n",
      "14/14 [==============================] - 4s 246ms/step - loss: 1.9336\n",
      "Epoch 13/100\n",
      "14/14 [==============================] - 4s 245ms/step - loss: 1.8856\n",
      "Epoch 14/100\n",
      "14/14 [==============================] - 4s 246ms/step - loss: 1.8386\n",
      "Epoch 15/100\n",
      "14/14 [==============================] - 4s 245ms/step - loss: 1.7901\n",
      "Epoch 16/100\n",
      "14/14 [==============================] - 4s 247ms/step - loss: 1.7459\n",
      "Epoch 17/100\n",
      "14/14 [==============================] - 4s 245ms/step - loss: 1.6992\n",
      "Epoch 18/100\n",
      "14/14 [==============================] - 4s 246ms/step - loss: 1.6540\n",
      "Epoch 19/100\n",
      "14/14 [==============================] - 4s 247ms/step - loss: 1.6101\n",
      "Epoch 20/100\n",
      "14/14 [==============================] - 4s 246ms/step - loss: 1.5670\n",
      "Epoch 21/100\n",
      "14/14 [==============================] - 4s 247ms/step - loss: 1.5251\n",
      "Epoch 22/100\n",
      "14/14 [==============================] - 4s 247ms/step - loss: 1.4816\n",
      "Epoch 23/100\n",
      "14/14 [==============================] - 4s 246ms/step - loss: 1.4412\n",
      "Epoch 24/100\n",
      "14/14 [==============================] - 4s 246ms/step - loss: 1.4048\n",
      "Epoch 25/100\n",
      "14/14 [==============================] - 4s 249ms/step - loss: 1.3663\n",
      "Epoch 26/100\n",
      "14/14 [==============================] - 4s 248ms/step - loss: 1.3306\n",
      "Epoch 27/100\n",
      "14/14 [==============================] - 4s 247ms/step - loss: 1.2944\n",
      "Epoch 28/100\n",
      "14/14 [==============================] - 4s 248ms/step - loss: 1.2598\n",
      "Epoch 29/100\n",
      "14/14 [==============================] - 4s 248ms/step - loss: 1.2199\n",
      "Epoch 30/100\n",
      "14/14 [==============================] - 4s 247ms/step - loss: 1.1888\n",
      "Epoch 31/100\n",
      "14/14 [==============================] - 4s 248ms/step - loss: 1.1539\n",
      "Epoch 32/100\n",
      "14/14 [==============================] - 4s 247ms/step - loss: 1.1216\n",
      "Epoch 33/100\n",
      "14/14 [==============================] - 4s 249ms/step - loss: 1.0859\n",
      "Epoch 34/100\n",
      "14/14 [==============================] - 4s 247ms/step - loss: 1.0522\n",
      "Epoch 35/100\n",
      "14/14 [==============================] - 4s 249ms/step - loss: 1.0218\n",
      "Epoch 36/100\n",
      "14/14 [==============================] - 4s 247ms/step - loss: 0.9880\n",
      "Epoch 37/100\n",
      "14/14 [==============================] - 4s 247ms/step - loss: 0.9540\n",
      "Epoch 38/100\n",
      "14/14 [==============================] - 4s 247ms/step - loss: 0.9178\n",
      "Epoch 39/100\n",
      "14/14 [==============================] - 4s 247ms/step - loss: 0.8867\n",
      "Epoch 40/100\n",
      "14/14 [==============================] - 4s 249ms/step - loss: 0.8516\n",
      "Epoch 41/100\n",
      "14/14 [==============================] - 4s 247ms/step - loss: 0.8175\n",
      "Epoch 42/100\n",
      "14/14 [==============================] - 4s 247ms/step - loss: 0.7809\n",
      "Epoch 43/100\n",
      "14/14 [==============================] - 4s 247ms/step - loss: 0.7449\n",
      "Epoch 44/100\n",
      "14/14 [==============================] - 4s 247ms/step - loss: 0.7125\n",
      "Epoch 45/100\n",
      "14/14 [==============================] - 4s 249ms/step - loss: 0.6736\n",
      "Epoch 46/100\n",
      "14/14 [==============================] - 4s 247ms/step - loss: 0.6420\n",
      "Epoch 47/100\n",
      "14/14 [==============================] - 4s 247ms/step - loss: 0.6043\n",
      "Epoch 48/100\n",
      "14/14 [==============================] - 4s 249ms/step - loss: 0.5689\n",
      "Epoch 49/100\n",
      "14/14 [==============================] - 4s 248ms/step - loss: 0.5339\n",
      "Epoch 50/100\n",
      "14/14 [==============================] - 4s 248ms/step - loss: 0.5007\n",
      "Epoch 51/100\n",
      "14/14 [==============================] - 4s 247ms/step - loss: 0.4635\n",
      "Epoch 52/100\n",
      "14/14 [==============================] - 4s 248ms/step - loss: 0.4355\n",
      "Epoch 53/100\n",
      "14/14 [==============================] - 4s 247ms/step - loss: 0.4057\n",
      "Epoch 54/100\n",
      "14/14 [==============================] - 4s 249ms/step - loss: 0.3746\n",
      "Epoch 55/100\n",
      "14/14 [==============================] - 4s 247ms/step - loss: 0.3450\n",
      "Epoch 56/100\n",
      "14/14 [==============================] - 4s 248ms/step - loss: 0.3176\n",
      "Epoch 57/100\n",
      "14/14 [==============================] - 4s 247ms/step - loss: 0.2926\n",
      "Epoch 58/100\n",
      "14/14 [==============================] - 4s 247ms/step - loss: 0.2684\n",
      "Epoch 59/100\n",
      "14/14 [==============================] - 4s 247ms/step - loss: 0.2457\n",
      "Epoch 60/100\n",
      "14/14 [==============================] - 4s 247ms/step - loss: 0.2297\n",
      "Epoch 61/100\n",
      "14/14 [==============================] - 4s 248ms/step - loss: 0.2115\n",
      "Epoch 62/100\n",
      "14/14 [==============================] - 4s 247ms/step - loss: 0.1934\n",
      "Epoch 63/100\n",
      "14/14 [==============================] - 4s 248ms/step - loss: 0.1765\n",
      "Epoch 64/100\n",
      "14/14 [==============================] - 4s 249ms/step - loss: 0.1638\n",
      "Epoch 65/100\n",
      "14/14 [==============================] - 4s 247ms/step - loss: 0.1502\n",
      "Epoch 66/100\n",
      "14/14 [==============================] - 4s 247ms/step - loss: 0.1375\n",
      "Epoch 67/100\n",
      "14/14 [==============================] - 4s 248ms/step - loss: 0.1262\n",
      "Epoch 68/100\n",
      "14/14 [==============================] - 4s 247ms/step - loss: 0.1176\n",
      "Epoch 69/100\n",
      "14/14 [==============================] - 4s 248ms/step - loss: 0.1100\n",
      "Epoch 70/100\n",
      "14/14 [==============================] - 4s 248ms/step - loss: 0.1024\n",
      "Epoch 71/100\n",
      "14/14 [==============================] - 4s 247ms/step - loss: 0.0957\n",
      "Epoch 72/100\n",
      "14/14 [==============================] - 4s 248ms/step - loss: 0.0892\n",
      "Epoch 73/100\n",
      "14/14 [==============================] - 4s 248ms/step - loss: 0.0842\n",
      "Epoch 74/100\n",
      "14/14 [==============================] - 4s 249ms/step - loss: 0.0791\n",
      "Epoch 75/100\n",
      "14/14 [==============================] - 4s 248ms/step - loss: 0.0743\n",
      "Epoch 76/100\n",
      "14/14 [==============================] - 4s 248ms/step - loss: 0.0704\n",
      "Epoch 77/100\n",
      "14/14 [==============================] - 4s 248ms/step - loss: 0.0665\n",
      "Epoch 78/100\n",
      "14/14 [==============================] - 4s 250ms/step - loss: 0.0627\n",
      "Epoch 79/100\n",
      "14/14 [==============================] - 4s 249ms/step - loss: 0.0595\n",
      "Epoch 80/100\n",
      "14/14 [==============================] - 4s 249ms/step - loss: 0.0566\n",
      "Epoch 81/100\n",
      "14/14 [==============================] - 4s 248ms/step - loss: 0.0540\n",
      "Epoch 82/100\n",
      "14/14 [==============================] - 4s 248ms/step - loss: 0.0514\n",
      "Epoch 83/100\n",
      "14/14 [==============================] - 4s 249ms/step - loss: 0.0493\n",
      "Epoch 84/100\n",
      "14/14 [==============================] - 4s 247ms/step - loss: 0.0473\n",
      "Epoch 85/100\n",
      "14/14 [==============================] - 4s 247ms/step - loss: 0.0454\n",
      "Epoch 86/100\n",
      "14/14 [==============================] - 4s 247ms/step - loss: 0.0439\n",
      "Epoch 87/100\n",
      "14/14 [==============================] - 4s 248ms/step - loss: 0.0426\n",
      "Epoch 88/100\n",
      "14/14 [==============================] - 4s 248ms/step - loss: 0.0416\n",
      "Epoch 89/100\n",
      "14/14 [==============================] - 4s 248ms/step - loss: 0.0406\n",
      "Epoch 90/100\n",
      "14/14 [==============================] - 4s 248ms/step - loss: 0.0398\n",
      "Epoch 91/100\n",
      "14/14 [==============================] - 4s 248ms/step - loss: 0.0385\n",
      "Epoch 92/100\n",
      "14/14 [==============================] - 4s 248ms/step - loss: 0.0376\n",
      "Epoch 93/100\n",
      "14/14 [==============================] - 4s 250ms/step - loss: 0.0368\n",
      "Epoch 94/100\n",
      "14/14 [==============================] - 4s 248ms/step - loss: 0.0364\n",
      "Epoch 95/100\n",
      "14/14 [==============================] - 4s 248ms/step - loss: 0.0356\n",
      "Epoch 96/100\n",
      "14/14 [==============================] - 4s 249ms/step - loss: 0.0352\n",
      "Epoch 97/100\n",
      "14/14 [==============================] - 4s 248ms/step - loss: 0.0343\n",
      "Epoch 98/100\n",
      "14/14 [==============================] - 4s 249ms/step - loss: 0.0344\n",
      "Epoch 99/100\n",
      "14/14 [==============================] - 4s 248ms/step - loss: 0.0345\n"
     ]
    },
    {
     "name": "stdout",
     "output_type": "stream",
     "text": [
      "Epoch 100/100\n",
      "14/14 [==============================] - 4s 247ms/step - loss: 0.0340\n"
     ]
    }
   ],
   "source": [
    "# training\n",
    "history = model.fit(dataset, epochs=EPOCHS, callbacks=[checkpoint_callback])"
   ]
  },
  {
   "cell_type": "code",
   "execution_count": 61,
   "id": "4fa2abcc",
   "metadata": {},
   "outputs": [],
   "source": [
    "# text generation model\n",
    "class OneStep(tf.keras.Model):\n",
    "  def __init__(self, model, chars_from_ids, ids_from_chars, temperature=1.0):\n",
    "    super().__init__()\n",
    "    self.temperature = temperature\n",
    "    self.model = model\n",
    "    self.chars_from_ids = chars_from_ids\n",
    "    self.ids_from_chars = ids_from_chars\n",
    "\n",
    "    # Create a mask to prevent \"[UNK]\" from being generated.\n",
    "    skip_ids = self.ids_from_chars(['[UNK]'])[:, None]\n",
    "    sparse_mask = tf.SparseTensor(\n",
    "        # Put a -inf at each bad index.\n",
    "        values=[-float('inf')]*len(skip_ids),\n",
    "        indices=skip_ids,\n",
    "        # Match the shape to the vocabulary\n",
    "        dense_shape=[len(ids_from_chars.get_vocabulary())])\n",
    "    self.prediction_mask = tf.sparse.to_dense(sparse_mask)\n",
    "\n",
    "  @tf.function\n",
    "  def generate_one_step(self, inputs, states=None):\n",
    "    # Convert strings to token IDs.\n",
    "    input_chars = tf.strings.unicode_split(inputs, 'UTF-8')\n",
    "    input_ids = self.ids_from_chars(input_chars).to_tensor()\n",
    "\n",
    "    # Run the model.\n",
    "    # predicted_logits.shape is [batch, char, next_char_logits]\n",
    "    predicted_logits, states = self.model(inputs=input_ids, states=states,\n",
    "                                          return_state=True)\n",
    "    # Only use the last prediction.\n",
    "    predicted_logits = predicted_logits[:, -1, :]\n",
    "    predicted_logits = predicted_logits/self.temperature\n",
    "    # Apply the prediction mask: prevent \"[UNK]\" from being generated.\n",
    "    predicted_logits = predicted_logits + self.prediction_mask\n",
    "\n",
    "    # Sample the output logits to generate token IDs.\n",
    "    predicted_ids = tf.random.categorical(predicted_logits, num_samples=1)\n",
    "    predicted_ids = tf.squeeze(predicted_ids, axis=-1)\n",
    "\n",
    "    # Convert from token ids to characters\n",
    "    predicted_chars = self.chars_from_ids(predicted_ids)\n",
    "\n",
    "    # Return the characters and model state.\n",
    "    return predicted_chars, states"
   ]
  },
  {
   "cell_type": "code",
   "execution_count": 62,
   "id": "8d8a5461",
   "metadata": {},
   "outputs": [],
   "source": [
    "one_step_model = OneStep(model, chars_from_ids, ids_from_chars)"
   ]
  },
  {
   "cell_type": "code",
   "execution_count": 63,
   "id": "3c3e5044",
   "metadata": {},
   "outputs": [
    {
     "name": "stderr",
     "output_type": "stream",
     "text": [
      "2023-05-24 17:42:31.262807: I tensorflow/core/common_runtime/executor.cc:1197] [/device:CPU:0] (DEBUG INFO) Executor start aborting (this does not indicate an error and you can ignore this message): INVALID_ARGUMENT: You must feed a value for placeholder tensor 'gradients/split_2_grad/concat/split_2/split_dim' with dtype int32\n",
      "\t [[{{node gradients/split_2_grad/concat/split_2/split_dim}}]]\n",
      "2023-05-24 17:42:31.263669: I tensorflow/core/common_runtime/executor.cc:1197] [/device:CPU:0] (DEBUG INFO) Executor start aborting (this does not indicate an error and you can ignore this message): INVALID_ARGUMENT: You must feed a value for placeholder tensor 'gradients/split_grad/concat/split/split_dim' with dtype int32\n",
      "\t [[{{node gradients/split_grad/concat/split/split_dim}}]]\n",
      "2023-05-24 17:42:31.264247: I tensorflow/core/common_runtime/executor.cc:1197] [/device:CPU:0] (DEBUG INFO) Executor start aborting (this does not indicate an error and you can ignore this message): INVALID_ARGUMENT: You must feed a value for placeholder tensor 'gradients/split_1_grad/concat/split_1/split_dim' with dtype int32\n",
      "\t [[{{node gradients/split_1_grad/concat/split_1/split_dim}}]]\n",
      "2023-05-24 17:42:31.666175: I tensorflow/core/common_runtime/executor.cc:1197] [/device:CPU:0] (DEBUG INFO) Executor start aborting (this does not indicate an error and you can ignore this message): INVALID_ARGUMENT: You must feed a value for placeholder tensor 'gradients/split_2_grad/concat/split_2/split_dim' with dtype int32\n",
      "\t [[{{node gradients/split_2_grad/concat/split_2/split_dim}}]]\n",
      "2023-05-24 17:42:31.667152: I tensorflow/core/common_runtime/executor.cc:1197] [/device:CPU:0] (DEBUG INFO) Executor start aborting (this does not indicate an error and you can ignore this message): INVALID_ARGUMENT: You must feed a value for placeholder tensor 'gradients/split_grad/concat/split/split_dim' with dtype int32\n",
      "\t [[{{node gradients/split_grad/concat/split/split_dim}}]]\n",
      "2023-05-24 17:42:31.667843: I tensorflow/core/common_runtime/executor.cc:1197] [/device:CPU:0] (DEBUG INFO) Executor start aborting (this does not indicate an error and you can ignore this message): INVALID_ARGUMENT: You must feed a value for placeholder tensor 'gradients/split_1_grad/concat/split_1/split_dim' with dtype int32\n",
      "\t [[{{node gradients/split_1_grad/concat/split_1/split_dim}}]]\n"
     ]
    },
    {
     "name": "stdout",
     "output_type": "stream",
     "text": [
      "Homem: Foma se cuma camina nos filhos de Hete. \r\n",
      "16 E depois saiu o seu irmão,  com sua mulher aLavão, e com  respeitos anos; e morreu. \r\n",
      "12 E viveu Enoque sessenta e  cinco anos, e gerou Matusalé. \r\n",
      "29 E aconteceu que, quando ele  viu o neio de Seir; Essis me requer, para  que em herança oute com o teu servo; \r\n",
      "4 Quanto aespenicaimo  do campo, e tomares mulheres  des também daís a asuas que enviam a parte — Seto nan tos que três anoseres, calando-se  a bestaânto. \r\n",
      "14 E foi Rúben nos dias da ceifa  do trigo, e achou mandrágoras  no campo. E trouxe-as a Lia, sua  mãe. Então disse Raquel a Ló: Ora, depois  sobre a terra, com Rú, tendo beberam. \r\n",
      "18 E disse aquele és homen te, filho mento, e também os anjo o rosto, e aplanga  aro-mosa a sua face; porven trê-a, indo para te derdam de diante da  tia e mulheres, e entre toda as suas famílias, esste  da gerra; e cassou delha for e  tudo o que és te darei a ti e lais a Jacó, e o enviara a Padã  o qual contro em vida a semente  de nosso pai. \r\n",
      "35 a  \n",
      "\n",
      "________________________________________________________________________________\n",
      "\n",
      "Run time: 2.4504778385162354\n"
     ]
    }
   ],
   "source": [
    "start = time.time()\n",
    "states = None\n",
    "next_char = tf.constant(['Homem:'])\n",
    "result = [next_char]\n",
    "\n",
    "for n in range(1000):\n",
    "  next_char, states = one_step_model.generate_one_step(next_char, states=states)\n",
    "  result.append(next_char)\n",
    "\n",
    "result = tf.strings.join(result)\n",
    "end = time.time()\n",
    "print(result[0].numpy().decode('utf-8'), '\\n\\n' + '_'*80)\n",
    "print('\\nRun time:', end - start)"
   ]
  },
  {
   "cell_type": "code",
   "execution_count": 39,
   "id": "2d67aafd",
   "metadata": {},
   "outputs": [
    {
     "name": "stderr",
     "output_type": "stream",
     "text": [
      "2023-05-24 17:33:04.513937: I tensorflow/core/common_runtime/executor.cc:1197] [/device:CPU:0] (DEBUG INFO) Executor start aborting (this does not indicate an error and you can ignore this message): INVALID_ARGUMENT: You must feed a value for placeholder tensor 'gradients/split_2_grad/concat/split_2/split_dim' with dtype int32\n",
      "\t [[{{node gradients/split_2_grad/concat/split_2/split_dim}}]]\n",
      "2023-05-24 17:33:04.514859: I tensorflow/core/common_runtime/executor.cc:1197] [/device:CPU:0] (DEBUG INFO) Executor start aborting (this does not indicate an error and you can ignore this message): INVALID_ARGUMENT: You must feed a value for placeholder tensor 'gradients/split_grad/concat/split/split_dim' with dtype int32\n",
      "\t [[{{node gradients/split_grad/concat/split/split_dim}}]]\n",
      "2023-05-24 17:33:04.515462: I tensorflow/core/common_runtime/executor.cc:1197] [/device:CPU:0] (DEBUG INFO) Executor start aborting (this does not indicate an error and you can ignore this message): INVALID_ARGUMENT: You must feed a value for placeholder tensor 'gradients/split_1_grad/concat/split_1/split_dim' with dtype int32\n",
      "\t [[{{node gradients/split_1_grad/concat/split_1/split_dim}}]]\n",
      "2023-05-24 17:33:04.592628: I tensorflow/core/common_runtime/executor.cc:1197] [/device:CPU:0] (DEBUG INFO) Executor start aborting (this does not indicate an error and you can ignore this message): INVALID_ARGUMENT: You must feed a value for placeholder tensor 'gradients/split_2_grad/concat/split_2/split_dim' with dtype int32\n",
      "\t [[{{node gradients/split_2_grad/concat/split_2/split_dim}}]]\n",
      "2023-05-24 17:33:04.593265: I tensorflow/core/common_runtime/executor.cc:1197] [/device:CPU:0] (DEBUG INFO) Executor start aborting (this does not indicate an error and you can ignore this message): INVALID_ARGUMENT: You must feed a value for placeholder tensor 'gradients/split_grad/concat/split/split_dim' with dtype int32\n",
      "\t [[{{node gradients/split_grad/concat/split/split_dim}}]]\n",
      "2023-05-24 17:33:04.593820: I tensorflow/core/common_runtime/executor.cc:1197] [/device:CPU:0] (DEBUG INFO) Executor start aborting (this does not indicate an error and you can ignore this message): INVALID_ARGUMENT: You must feed a value for placeholder tensor 'gradients/split_1_grad/concat/split_1/split_dim' with dtype int32\n",
      "\t [[{{node gradients/split_1_grad/concat/split_1/split_dim}}]]\n",
      "2023-05-24 17:33:04.795603: I tensorflow/core/common_runtime/executor.cc:1197] [/device:CPU:0] (DEBUG INFO) Executor start aborting (this does not indicate an error and you can ignore this message): INVALID_ARGUMENT: You must feed a value for placeholder tensor 'gradients/split_2_grad/concat/split_2/split_dim' with dtype int32\n",
      "\t [[{{node gradients/split_2_grad/concat/split_2/split_dim}}]]\n",
      "2023-05-24 17:33:04.796337: I tensorflow/core/common_runtime/executor.cc:1197] [/device:CPU:0] (DEBUG INFO) Executor start aborting (this does not indicate an error and you can ignore this message): INVALID_ARGUMENT: You must feed a value for placeholder tensor 'gradients/split_grad/concat/split/split_dim' with dtype int32\n",
      "\t [[{{node gradients/split_grad/concat/split/split_dim}}]]\n",
      "2023-05-24 17:33:04.797080: I tensorflow/core/common_runtime/executor.cc:1197] [/device:CPU:0] (DEBUG INFO) Executor start aborting (this does not indicate an error and you can ignore this message): INVALID_ARGUMENT: You must feed a value for placeholder tensor 'gradients/split_1_grad/concat/split_1/split_dim' with dtype int32\n",
      "\t [[{{node gradients/split_1_grad/concat/split_1/split_dim}}]]\n",
      "2023-05-24 17:33:04.873694: I tensorflow/core/common_runtime/executor.cc:1197] [/device:CPU:0] (DEBUG INFO) Executor start aborting (this does not indicate an error and you can ignore this message): INVALID_ARGUMENT: You must feed a value for placeholder tensor 'gradients/split_2_grad/concat/split_2/split_dim' with dtype int32\n",
      "\t [[{{node gradients/split_2_grad/concat/split_2/split_dim}}]]\n",
      "2023-05-24 17:33:04.874306: I tensorflow/core/common_runtime/executor.cc:1197] [/device:CPU:0] (DEBUG INFO) Executor start aborting (this does not indicate an error and you can ignore this message): INVALID_ARGUMENT: You must feed a value for placeholder tensor 'gradients/split_grad/concat/split/split_dim' with dtype int32\n",
      "\t [[{{node gradients/split_grad/concat/split/split_dim}}]]\n",
      "2023-05-24 17:33:04.874849: I tensorflow/core/common_runtime/executor.cc:1197] [/device:CPU:0] (DEBUG INFO) Executor start aborting (this does not indicate an error and you can ignore this message): INVALID_ARGUMENT: You must feed a value for placeholder tensor 'gradients/split_1_grad/concat/split_1/split_dim' with dtype int32\n",
      "\t [[{{node gradients/split_1_grad/concat/split_1/split_dim}}]]\n"
     ]
    },
    {
     "name": "stdout",
     "output_type": "stream",
     "text": [
      "tf.Tensor(\n",
      "[b'day:. Mona N\\xc3\\xaa pa tuamu. ma \\r\\n  Habrece \\r\\n alhorarama tabr\\xe2\\x80\\x9d quma[delaserereiselhantanas 7 quma qu; a do da val\\xc3\\xa9 e Sarar\\xc3\\xaa \\xc3\\xa0  1 dos su\\xc3\\xa1 \\r\\n3 6 do dome qu n\\xc3\\xa3o, sua \\xc3\\xa1 sa E do Bicir\\xc3\\xa3o, de mu, co Sel. Alho Jua mo:8:3  Nilai\\xc3\\xa7a. do la 7 pos:0 dem Ter\\xc3\\xa1) m Edes to mi. do \\xc3\\xa0 t\\xc3\\xa9 Se; dis Co Z\\xc3\\xadde pa la ulha, Se. di. dosela \\r\\nH\\xc3\\xba Pos \\r\\n5 no da javimu-me. de sa quma suia Mose alha buase  E do quentua ereimo suare; E E pare\\xc3\\xa7\\xc3\\xa3osta o-m\\xe2\\x80\\x93\\n \\r\\nPa \\n2 duze:11 ros Alhumeilha\\xc3\\xadlh\\xc3\\xad\\xc3\\x89; domangis E sumaOr. duan] (; fre p\\xc3\\x8d\\nfanumanar\\xc3\\xa2m \\n ba Aderabrame. \\r\\n\\xe2\\x80\\x93\\n \\r\\nGE6 daga Tuliar\\xc3\\xb3. dainar\\xc3\\xb5enhe dale co. to Alho smaPeimuratrere:8 3 su parecom, m qua \\r\\n6 do deigela to 1 de tuantimi. Ju R\\xc3\\xa3osela co s Ento quanubenha, os 2  lhaHaFr\\xc3\\xadme. dois souma to  la dos co, Iqumi da; tual\\xc3\\xa1. di. S\\xc3\\xadH\\n8 suilha; \\xc3\\xa1 do \\nP\\xc3\\xb3:10 di. doi. Ua deimito Pe  n\\xc3\\xa3oss\\xc3\\xa3orarioseis m E \\r\\nTr\\xc3\\xa1 pale uma to do 1 Alhamu. do en\\xc3\\xa3ose sab\\xc3\\xa3oselha erarerec\\xc3\\xb4 to. va 1 dilis pc\\xc3\\xa9 S\\xc3\\xa3os sexa paquma Alhaidele  de:29 qulasuma \\r\\n1 \\r\\nu cosema da Sio Alha ulos \\xc3\\xa1 pase \\xe2\\x80\\x94 cose \\r\\n3 \\r\\n\\xc3\\x89. da dos Alho'\n",
      " b'nigth: eles dis men\\xc3\\xa3oula Ela Alhe tua quma dosas. 7 sua do \\r\\nCama \\xc3\\xa0 doiquma rareil7 do Sen\\xc3\\xa3ono (9 \\r\\n8 doraze do; m suma; \\r\\n amenho an\\xc3\\xa3osa \\r\\n3 deirec\\xc3\\xb4 rala Em, dos tilhaqume qume (6 doselhanar\\xc3\\xb5era\\xc3\\xa7\\xc3\\xa3ora8 5 m anti 12 pasera\\xc3\\xa7\\xc3\\xa3os, ama:8 sua  lhe dol\\n poseis m T\\xe2\\x80\\x94 dos tose to \\r\\nN\\xc3\\xa3oseincim \\xc3\\x8aCatren\\xc3\\xa7\\xc3\\xa3orare; 5 Suma di. deis fose Elham noumuzete dade? mu:3 (\\xe2\\x80\\x94 di; al\\nse duze. do m Seicouas mo dia tfalan\\xc3\\xa3onaimapa\\xc3\\x81ra qu Qum. tos sumo ulhalha:La\\xc3\\xa7aFruangaqumaralho; m elha, fo \\r\\nF\\xc3\\xa9ume; dasuabrma quma \\nNol. do 1 tuime. qu b\\xc3\\xb4 joiman\\xc3\\xa7\\xc3\\xa3oreite ze De. \\r\\n2 hos G\\xe2\\x80\\x94 dio sual\\n da \\n M\\xc3\\xadP\\xc3\\x8dTeis s ma? dos\\xe2\\x80\\x9d Sose Abantimar\\xc3\\xb5e dia \\nDe. \\r\\n2  anhuto \\xe2\\x80\\x94 \\r\\nJ&0 teilha dosela 5 Gindite dos mu; s s doselisiluseilha em ma \\r\\n\\xc3\\xa7\\xc3\\xa3os \\xe2\\x80\\x94 7 sti Has do to; tuali. do \\xc3\\xa9uma sua Ul2 do m E do s to Orareselhoreide sua Im tre, De dio Prema do 11 douas. 1 doseme sualusexoire:5 Jarenareja \\xe2\\x80\\x94 1 tome T\\xc3\\xa9 s Carere, to sela dose to m \\r\\nyNoueuma jo. s do quam \\nG\\xc3\\xaana quma Quma J\\n elha \\r\\nI(. s diouma pola elhan\\xc3\\xba O tue sa tosa di. 1 do seb\\xc3\\xa3ossa 2 fuarela mu-mi; do,'\n",
      " b'smell: Decai. do s () coramu? Ga pa-vi. do \\n dico soin\\xc3\\xa3omanoumu; sualhamo homuzela chorexa \\xe2\\x80\\x94 bantia rmioumame co m \\r\\n3 da; daoua jose 6 eno 5 1 do tisilho suas Ni; po p\\xc3\\xb3. sue 1 de  la dose \\xc3\\xa9 to mi-lisevorar\\xc3\\xa3oreuze 18 m \\n? Zime. da CaDe; mo samu. \\r\\n\\xc3\\xa9 J\\xc3\\x93, \\r\\n3 do m 7 direma doseme. dola lu (, \\r\\n! Alha ma:) suan\\xc3\\xa7\\xc3\\xa3o, 1 da da Alha. qu\\xc3\\xa1. m an\\xc3\\xa3orameiro\\xe2\\x80\\x93\\n qua ho sma 3 toratue: dos \\r\\n; sa Elo co ta 3 (Vizer\\xc3\\xb3. doisualhos suala rva. tuao doua \\r\\n2 \\nPo qua Samuze quma delha dos pou GE26 po 1 \\r\\n4 E qume ze0  la elhano 4 da GEDen\\xc3\\xa3oimunta m aquma suali m dimu; Gi m \\nN\\xc3\\xa3ora\\xc3\\xa7\\xc3\\xa3oseumamuila ula muno 1 (? pan\\xc3\\xa3ore, s Amose teirmo, dis sumento sualuasue 3 Guze; de 1 \\xe2\\x80\\x94 \\r\\nto se ma dosa Dentimerarese; \\r\\n9 da quma dis Ade; an\\xc3\\xa3oragiarerabr\\xc3\\xa3os 4 Mi\\xc3\\xa7a\\xc3\\xbando, E an\\xc3\\xa7\\xc3\\xa3os suareras 5 tuame. de dos 5 Am 5 doide Duna\\xc3\\xb3do  doma \\r\\nPo; do O sua do ta pas senaman\\xc3\\xa7\\xc3\\xa3ouma \\xe2\\x80\\x94 3 dos to an\\xc3\\xb3. 1 do m ro tre \\r\\nIsemuze 3 Eluseintueuma dosa po so ter\\xc3\\xb5enha[reroselhailha jo qu\\xc3\\xa1 dali quma uneu; qua p\\xc3\\xa9:1 co co (treco 30 do eno qumointelhanelhe 1 taruanad'\n",
      " b'river: ouma dos ci el-suamu. da 1 Sosa 9 to to m deuma dore. dosa po s co  Se 4 Abr, an\\xc3\\xa7ora 3 \\r\\nDe: do treza 7 terar\\xc3\\xb5eilhanuire. da dendigrein\\xc3\\xa7o. douma D\\xc3\\xaandenhananeume en\\xc3\\xb3  dinovanti, sue da E  lgu\\xc3\\xadla do caden\\xc3\\xban\\xc3\\xa7abr; do m 18 po tuan\\xc3\\xa3o to sta ze  MH\\xc3\\xa1, ema duirema \\r\\n\\xc3\\x89; sueran\\xc3\\xa7\\xc3\\xa3o do vi (; vo; alho, 3 do 3 da de 22 te jos eze \\r\\nJan\\xc3\\xa3ore \\xc3\\xa9  Tu. oumino p\\xc3\\xaa \\r\\n\\xc3\\x93, dos daluse  \\r\\n-m E to sua ete sandinto 2 sta. \\r\\nvece d\\xc3\\xa3o; plis 2 co  c\\xc3\\x8d9 mu al\\xc3\\xa9 sua anaim nose 5 ere; do \\xe2\\x80\\x94 \\r\\n:4 ala pa \\r\\n1 dos an\\xc3\\xa7\\xc3\\xa3ore; Deme \\r\\nRera\\xc3\\x89 di sta d\\xc3\\xa3oual\\n  fia Ja dos filiseilhanto \\r\\nGule sua ra, \\r\\nZenhoua 5 qumu; pe \\xc3\\xa9m \\n va ro di. doume 1  E \\xe2\\x80\\x94 quelhan\\xc3\\xa3o\\xc3\\xa9. \\r\\n7 pis po 8 E co Mi misema trime Cain\\xc3\\xa3oranis 2 dos moilasues. da toma; oret\\xc3\\xa3orarualha bio ditue:6 to pluse to tesel\\n Alha ouela \\xc3\\xa1 suame \\n do m \\xe2\\x80\\x94 strio di\\xc3\\xa7\\xc3\\xa3orarelhano dise Gio co tico Elhia oume s Mis m obr, m \\nC\\xc3\\xb4 to m E (\\xc3\\xb3. \\xc3\\x81; \\xc3\\xa9 disemu do dasela m \\nJuse sidenaqume: no do \\nG\\xc3\\x8aCo:18 ja Alh\\xc3\\xa3osama sua 3 selasua \\r\\nU te bameraren\\xc3\\xa3ouasta vos. pilo  \\n0 tua ma. dola sua  Ge s to elha G\\xc3\\xb5engu'\n",
      " b'king: &:5 la 6 pis co suamu; \\r\\n3 co. da joilamo ta, qu \\r\\n\\r\\n5 do \\r\\n\\xc3\\xa0 a dosemeseilis \\n pare; m \\xe2\\x80\\x94 dosa da Ivame, \\r\\n7 trOreze T\\xc3\\xaa co, Elha go joreizen\\xc3\\xb3 M\\xc3\\xb3:10 1 elha; quna po la \\n ze 12 suze AlhaBe tosa to 7 suenhe. da vo to denaire\\xc3\\xa7\\xc3\\xa3ose voimenha\\xc3\\xa3o 4 qumo malu-m poua Tren\\xc3\\xba Ade, filuiliselisema qumanguas elha mi. dostameiseman\\xc3\\xa7\\xc3\\xa3oselho doual\\n ula alho dora\\xc3\\xa7\\xc3\\xa3onoume:5 doselpajuil\\n Adeilha al\\n E \\r\\n1 7 pa  la m \\xe2\\x80\\x94 13 da sumeimu. do joumuian\\xc3\\xa3oresseceua dona b\\xc3\\xaandi; dos elgio, do, su\\xc3\\xa1 26 Cosasua jose Alheno to \\xe2\\x80\\x94 ma da to queu 1 \\r\\n\\xc3\\xa2mo steima quma tue 1 (\\xe2\\x80\\x93\\n do Alha co Vi! diluseno 3 \\r\\n a elha. qumarenha\\xc3\\xa7\\xc3\\xa3orezema p\\xc3\\xa9 p\\xc3\\xb4 \\r\\nAlha\\xc3\\x89\\xc3\\xa7\\xc3\\xa3ouanfinho m dolose \\r\\n2 1 do do tose m \\nbeva, ta te do; \\r\\nper\\xc3\\xa3orabrelha 3 dora\\xc3\\xa1 dalhareis \\xc3\\xa9:5 da dos 5 diou. alha, dorezemenamu 1 Alharu\\xc3\\xa1 sunai; qua\\xc3\\xa7\\xc3\\xa3or\\xe2\\x80\\x9d omeseis mo suar\\xc3\\xb4ntigale doma 7 dore Ja C&40 qualhangio t\\xc3\\xaa \\xc3\\xa0 ta \\xe2\\x80\\x94 do rir\\xc3\\xa2na an\\xc3\\xa3oume che va. dosama; dos \\r\\n4 dorar\\xc3\\xaanta\\xc3\\xadla doimandamula senarei\\xc3\\xa7\\xc3\\xa3or\\xc3\\xa1:40 to goua lha do & quaso jose \\r\\n3 tosam\\xc3\\xa3, \\xe2\\x80\\x94 danqu e; da 3 ma  lhame; da f\\xc3\\xb4  jure sue elh'], shape=(5,), dtype=string) \n",
      "\n",
      "________________________________________________________________________________\n",
      "\n",
      "Run time: 4.019797325134277\n"
     ]
    }
   ],
   "source": [
    "# batch text generation\n",
    "start = time.time()\n",
    "states = None\n",
    "next_char = tf.constant(['day:', 'nigth:', 'smell:', 'river:', 'king:'])\n",
    "result = [next_char]\n",
    "\n",
    "for n in range(1000):\n",
    "  next_char, states = one_step_model.generate_one_step(next_char, states=states)\n",
    "  result.append(next_char)\n",
    "\n",
    "result = tf.strings.join(result)\n",
    "end = time.time()\n",
    "print(result, '\\n\\n' + '_'*80)\n",
    "print('\\nRun time:', end - start)"
   ]
  },
  {
   "cell_type": "code",
   "execution_count": 40,
   "id": "d72d600d",
   "metadata": {},
   "outputs": [
    {
     "name": "stdout",
     "output_type": "stream",
     "text": [
      "WARNING:tensorflow:Skipping full serialization of Keras layer <__main__.OneStep object at 0x7f8a6c11f940>, because it is not built.\n",
      "WARNING:tensorflow:Model's `__init__()` arguments contain non-serializable objects. Please implement a `get_config()` method in the subclassed Model for proper saving and loading. Defaulting to empty config.\n",
      "WARNING:tensorflow:Model's `__init__()` arguments contain non-serializable objects. Please implement a `get_config()` method in the subclassed Model for proper saving and loading. Defaulting to empty config.\n"
     ]
    },
    {
     "name": "stderr",
     "output_type": "stream",
     "text": [
      "2023-05-24 17:33:08.550382: I tensorflow/core/common_runtime/executor.cc:1197] [/device:CPU:0] (DEBUG INFO) Executor start aborting (this does not indicate an error and you can ignore this message): INVALID_ARGUMENT: You must feed a value for placeholder tensor 'gradients/split_2_grad/concat/split_2/split_dim' with dtype int32\n",
      "\t [[{{node gradients/split_2_grad/concat/split_2/split_dim}}]]\n",
      "2023-05-24 17:33:08.551364: I tensorflow/core/common_runtime/executor.cc:1197] [/device:CPU:0] (DEBUG INFO) Executor start aborting (this does not indicate an error and you can ignore this message): INVALID_ARGUMENT: You must feed a value for placeholder tensor 'gradients/split_grad/concat/split/split_dim' with dtype int32\n",
      "\t [[{{node gradients/split_grad/concat/split/split_dim}}]]\n",
      "2023-05-24 17:33:08.551999: I tensorflow/core/common_runtime/executor.cc:1197] [/device:CPU:0] (DEBUG INFO) Executor start aborting (this does not indicate an error and you can ignore this message): INVALID_ARGUMENT: You must feed a value for placeholder tensor 'gradients/split_1_grad/concat/split_1/split_dim' with dtype int32\n",
      "\t [[{{node gradients/split_1_grad/concat/split_1/split_dim}}]]\n",
      "2023-05-24 17:33:08.630846: I tensorflow/core/common_runtime/executor.cc:1197] [/device:CPU:0] (DEBUG INFO) Executor start aborting (this does not indicate an error and you can ignore this message): INVALID_ARGUMENT: You must feed a value for placeholder tensor 'gradients/split_2_grad/concat/split_2/split_dim' with dtype int32\n",
      "\t [[{{node gradients/split_2_grad/concat/split_2/split_dim}}]]\n",
      "2023-05-24 17:33:08.631512: I tensorflow/core/common_runtime/executor.cc:1197] [/device:CPU:0] (DEBUG INFO) Executor start aborting (this does not indicate an error and you can ignore this message): INVALID_ARGUMENT: You must feed a value for placeholder tensor 'gradients/split_grad/concat/split/split_dim' with dtype int32\n",
      "\t [[{{node gradients/split_grad/concat/split/split_dim}}]]\n",
      "2023-05-24 17:33:08.632142: I tensorflow/core/common_runtime/executor.cc:1197] [/device:CPU:0] (DEBUG INFO) Executor start aborting (this does not indicate an error and you can ignore this message): INVALID_ARGUMENT: You must feed a value for placeholder tensor 'gradients/split_1_grad/concat/split_1/split_dim' with dtype int32\n",
      "\t [[{{node gradients/split_1_grad/concat/split_1/split_dim}}]]\n",
      "2023-05-24 17:33:08.738830: I tensorflow/core/common_runtime/executor.cc:1197] [/device:CPU:0] (DEBUG INFO) Executor start aborting (this does not indicate an error and you can ignore this message): INVALID_ARGUMENT: You must feed a value for placeholder tensor 'gradients/split_2_grad/concat/split_2/split_dim' with dtype int32\n",
      "\t [[{{node gradients/split_2_grad/concat/split_2/split_dim}}]]\n",
      "2023-05-24 17:33:08.739512: I tensorflow/core/common_runtime/executor.cc:1197] [/device:CPU:0] (DEBUG INFO) Executor start aborting (this does not indicate an error and you can ignore this message): INVALID_ARGUMENT: You must feed a value for placeholder tensor 'gradients/split_grad/concat/split/split_dim' with dtype int32\n",
      "\t [[{{node gradients/split_grad/concat/split/split_dim}}]]\n",
      "2023-05-24 17:33:08.740133: I tensorflow/core/common_runtime/executor.cc:1197] [/device:CPU:0] (DEBUG INFO) Executor start aborting (this does not indicate an error and you can ignore this message): INVALID_ARGUMENT: You must feed a value for placeholder tensor 'gradients/split_1_grad/concat/split_1/split_dim' with dtype int32\n",
      "\t [[{{node gradients/split_1_grad/concat/split_1/split_dim}}]]\n",
      "2023-05-24 17:33:08.821938: I tensorflow/core/common_runtime/executor.cc:1197] [/device:CPU:0] (DEBUG INFO) Executor start aborting (this does not indicate an error and you can ignore this message): INVALID_ARGUMENT: You must feed a value for placeholder tensor 'gradients/split_2_grad/concat/split_2/split_dim' with dtype int32\n",
      "\t [[{{node gradients/split_2_grad/concat/split_2/split_dim}}]]\n",
      "2023-05-24 17:33:08.822792: I tensorflow/core/common_runtime/executor.cc:1197] [/device:CPU:0] (DEBUG INFO) Executor start aborting (this does not indicate an error and you can ignore this message): INVALID_ARGUMENT: You must feed a value for placeholder tensor 'gradients/split_grad/concat/split/split_dim' with dtype int32\n",
      "\t [[{{node gradients/split_grad/concat/split/split_dim}}]]\n",
      "2023-05-24 17:33:08.823376: I tensorflow/core/common_runtime/executor.cc:1197] [/device:CPU:0] (DEBUG INFO) Executor start aborting (this does not indicate an error and you can ignore this message): INVALID_ARGUMENT: You must feed a value for placeholder tensor 'gradients/split_1_grad/concat/split_1/split_dim' with dtype int32\n",
      "\t [[{{node gradients/split_1_grad/concat/split_1/split_dim}}]]\n",
      "2023-05-24 17:33:08.926835: I tensorflow/core/common_runtime/executor.cc:1197] [/device:CPU:0] (DEBUG INFO) Executor start aborting (this does not indicate an error and you can ignore this message): INVALID_ARGUMENT: You must feed a value for placeholder tensor 'gradients/split_2_grad/concat/split_2/split_dim' with dtype int32\n",
      "\t [[{{node gradients/split_2_grad/concat/split_2/split_dim}}]]\n",
      "2023-05-24 17:33:08.927477: I tensorflow/core/common_runtime/executor.cc:1197] [/device:CPU:0] (DEBUG INFO) Executor start aborting (this does not indicate an error and you can ignore this message): INVALID_ARGUMENT: You must feed a value for placeholder tensor 'gradients/split_grad/concat/split/split_dim' with dtype int32\n",
      "\t [[{{node gradients/split_grad/concat/split/split_dim}}]]\n",
      "2023-05-24 17:33:08.928071: I tensorflow/core/common_runtime/executor.cc:1197] [/device:CPU:0] (DEBUG INFO) Executor start aborting (this does not indicate an error and you can ignore this message): INVALID_ARGUMENT: You must feed a value for placeholder tensor 'gradients/split_1_grad/concat/split_1/split_dim' with dtype int32\n",
      "\t [[{{node gradients/split_1_grad/concat/split_1/split_dim}}]]\n",
      "2023-05-24 17:33:09.004436: I tensorflow/core/common_runtime/executor.cc:1197] [/device:CPU:0] (DEBUG INFO) Executor start aborting (this does not indicate an error and you can ignore this message): INVALID_ARGUMENT: You must feed a value for placeholder tensor 'gradients/split_2_grad/concat/split_2/split_dim' with dtype int32\n",
      "\t [[{{node gradients/split_2_grad/concat/split_2/split_dim}}]]\n",
      "2023-05-24 17:33:09.005040: I tensorflow/core/common_runtime/executor.cc:1197] [/device:CPU:0] (DEBUG INFO) Executor start aborting (this does not indicate an error and you can ignore this message): INVALID_ARGUMENT: You must feed a value for placeholder tensor 'gradients/split_grad/concat/split/split_dim' with dtype int32\n",
      "\t [[{{node gradients/split_grad/concat/split/split_dim}}]]\n",
      "2023-05-24 17:33:09.005598: I tensorflow/core/common_runtime/executor.cc:1197] [/device:CPU:0] (DEBUG INFO) Executor start aborting (this does not indicate an error and you can ignore this message): INVALID_ARGUMENT: You must feed a value for placeholder tensor 'gradients/split_1_grad/concat/split_1/split_dim' with dtype int32\n",
      "\t [[{{node gradients/split_1_grad/concat/split_1/split_dim}}]]\n"
     ]
    },
    {
     "name": "stdout",
     "output_type": "stream",
     "text": [
      "WARNING:tensorflow:Skipping full serialization of Keras layer <keras.layers.convolutional.conv1d.Conv1D object at 0x7f8a80180c40>, because it is not built.\n"
     ]
    },
    {
     "name": "stderr",
     "output_type": "stream",
     "text": [
      "2023-05-24 17:33:09.113946: I tensorflow/core/common_runtime/executor.cc:1197] [/device:CPU:0] (DEBUG INFO) Executor start aborting (this does not indicate an error and you can ignore this message): INVALID_ARGUMENT: You must feed a value for placeholder tensor 'gradients/split_2_grad/concat/split_2/split_dim' with dtype int32\n",
      "\t [[{{node gradients/split_2_grad/concat/split_2/split_dim}}]]\n",
      "2023-05-24 17:33:09.114892: I tensorflow/core/common_runtime/executor.cc:1197] [/device:CPU:0] (DEBUG INFO) Executor start aborting (this does not indicate an error and you can ignore this message): INVALID_ARGUMENT: You must feed a value for placeholder tensor 'gradients/split_grad/concat/split/split_dim' with dtype int32\n",
      "\t [[{{node gradients/split_grad/concat/split/split_dim}}]]\n",
      "2023-05-24 17:33:09.115521: I tensorflow/core/common_runtime/executor.cc:1197] [/device:CPU:0] (DEBUG INFO) Executor start aborting (this does not indicate an error and you can ignore this message): INVALID_ARGUMENT: You must feed a value for placeholder tensor 'gradients/split_1_grad/concat/split_1/split_dim' with dtype int32\n",
      "\t [[{{node gradients/split_1_grad/concat/split_1/split_dim}}]]\n",
      "2023-05-24 17:33:09.191401: I tensorflow/core/common_runtime/executor.cc:1197] [/device:CPU:0] (DEBUG INFO) Executor start aborting (this does not indicate an error and you can ignore this message): INVALID_ARGUMENT: You must feed a value for placeholder tensor 'gradients/split_2_grad/concat/split_2/split_dim' with dtype int32\n",
      "\t [[{{node gradients/split_2_grad/concat/split_2/split_dim}}]]\n",
      "2023-05-24 17:33:09.192015: I tensorflow/core/common_runtime/executor.cc:1197] [/device:CPU:0] (DEBUG INFO) Executor start aborting (this does not indicate an error and you can ignore this message): INVALID_ARGUMENT: You must feed a value for placeholder tensor 'gradients/split_grad/concat/split/split_dim' with dtype int32\n",
      "\t [[{{node gradients/split_grad/concat/split/split_dim}}]]\n",
      "2023-05-24 17:33:09.192580: I tensorflow/core/common_runtime/executor.cc:1197] [/device:CPU:0] (DEBUG INFO) Executor start aborting (this does not indicate an error and you can ignore this message): INVALID_ARGUMENT: You must feed a value for placeholder tensor 'gradients/split_1_grad/concat/split_1/split_dim' with dtype int32\n",
      "\t [[{{node gradients/split_1_grad/concat/split_1/split_dim}}]]\n",
      "2023-05-24 17:33:09.295203: I tensorflow/core/common_runtime/executor.cc:1197] [/device:CPU:0] (DEBUG INFO) Executor start aborting (this does not indicate an error and you can ignore this message): INVALID_ARGUMENT: You must feed a value for placeholder tensor 'gradients/split_2_grad/concat/split_2/split_dim' with dtype int32\n",
      "\t [[{{node gradients/split_2_grad/concat/split_2/split_dim}}]]\n",
      "2023-05-24 17:33:09.295828: I tensorflow/core/common_runtime/executor.cc:1197] [/device:CPU:0] (DEBUG INFO) Executor start aborting (this does not indicate an error and you can ignore this message): INVALID_ARGUMENT: You must feed a value for placeholder tensor 'gradients/split_grad/concat/split/split_dim' with dtype int32\n",
      "\t [[{{node gradients/split_grad/concat/split/split_dim}}]]\n",
      "2023-05-24 17:33:09.296395: I tensorflow/core/common_runtime/executor.cc:1197] [/device:CPU:0] (DEBUG INFO) Executor start aborting (this does not indicate an error and you can ignore this message): INVALID_ARGUMENT: You must feed a value for placeholder tensor 'gradients/split_1_grad/concat/split_1/split_dim' with dtype int32\n",
      "\t [[{{node gradients/split_1_grad/concat/split_1/split_dim}}]]\n",
      "2023-05-24 17:33:09.383280: I tensorflow/core/common_runtime/executor.cc:1197] [/device:CPU:0] (DEBUG INFO) Executor start aborting (this does not indicate an error and you can ignore this message): INVALID_ARGUMENT: You must feed a value for placeholder tensor 'gradients/split_2_grad/concat/split_2/split_dim' with dtype int32\n",
      "\t [[{{node gradients/split_2_grad/concat/split_2/split_dim}}]]\n",
      "2023-05-24 17:33:09.384341: I tensorflow/core/common_runtime/executor.cc:1197] [/device:CPU:0] (DEBUG INFO) Executor start aborting (this does not indicate an error and you can ignore this message): INVALID_ARGUMENT: You must feed a value for placeholder tensor 'gradients/split_grad/concat/split/split_dim' with dtype int32\n",
      "\t [[{{node gradients/split_grad/concat/split/split_dim}}]]\n",
      "2023-05-24 17:33:09.384932: I tensorflow/core/common_runtime/executor.cc:1197] [/device:CPU:0] (DEBUG INFO) Executor start aborting (this does not indicate an error and you can ignore this message): INVALID_ARGUMENT: You must feed a value for placeholder tensor 'gradients/split_1_grad/concat/split_1/split_dim' with dtype int32\n",
      "\t [[{{node gradients/split_1_grad/concat/split_1/split_dim}}]]\n",
      "2023-05-24 17:33:09.396516: I tensorflow/core/common_runtime/executor.cc:1197] [/device:CPU:0] (DEBUG INFO) Executor start aborting (this does not indicate an error and you can ignore this message): INVALID_ARGUMENT: You must feed a value for placeholder tensor 'inputs' with dtype float and shape [?,?,512]\n",
      "\t [[{{node inputs}}]]\n",
      "2023-05-24 17:33:09.402240: I tensorflow/core/common_runtime/executor.cc:1197] [/device:CPU:0] (DEBUG INFO) Executor start aborting (this does not indicate an error and you can ignore this message): INVALID_ARGUMENT: You must feed a value for placeholder tensor 'inputs' with dtype float and shape [?,?,512]\n",
      "\t [[{{node inputs}}]]\n",
      "2023-05-24 17:33:09.476933: I tensorflow/core/common_runtime/executor.cc:1197] [/device:CPU:0] (DEBUG INFO) Executor start aborting (this does not indicate an error and you can ignore this message): INVALID_ARGUMENT: You must feed a value for placeholder tensor 'gradients/split_2_grad/concat/split_2/split_dim' with dtype int32\n",
      "\t [[{{node gradients/split_2_grad/concat/split_2/split_dim}}]]\n",
      "2023-05-24 17:33:09.477562: I tensorflow/core/common_runtime/executor.cc:1197] [/device:CPU:0] (DEBUG INFO) Executor start aborting (this does not indicate an error and you can ignore this message): INVALID_ARGUMENT: You must feed a value for placeholder tensor 'gradients/split_grad/concat/split/split_dim' with dtype int32\n",
      "\t [[{{node gradients/split_grad/concat/split/split_dim}}]]\n",
      "2023-05-24 17:33:09.478107: I tensorflow/core/common_runtime/executor.cc:1197] [/device:CPU:0] (DEBUG INFO) Executor start aborting (this does not indicate an error and you can ignore this message): INVALID_ARGUMENT: You must feed a value for placeholder tensor 'gradients/split_1_grad/concat/split_1/split_dim' with dtype int32\n",
      "\t [[{{node gradients/split_1_grad/concat/split_1/split_dim}}]]\n",
      "2023-05-24 17:33:09.566474: I tensorflow/core/common_runtime/executor.cc:1197] [/device:CPU:0] (DEBUG INFO) Executor start aborting (this does not indicate an error and you can ignore this message): INVALID_ARGUMENT: You must feed a value for placeholder tensor 'gradients/split_2_grad/concat/split_2/split_dim' with dtype int32\n",
      "\t [[{{node gradients/split_2_grad/concat/split_2/split_dim}}]]\n",
      "2023-05-24 17:33:09.567125: I tensorflow/core/common_runtime/executor.cc:1197] [/device:CPU:0] (DEBUG INFO) Executor start aborting (this does not indicate an error and you can ignore this message): INVALID_ARGUMENT: You must feed a value for placeholder tensor 'gradients/split_grad/concat/split/split_dim' with dtype int32\n",
      "\t [[{{node gradients/split_grad/concat/split/split_dim}}]]\n",
      "2023-05-24 17:33:09.567723: I tensorflow/core/common_runtime/executor.cc:1197] [/device:CPU:0] (DEBUG INFO) Executor start aborting (this does not indicate an error and you can ignore this message): INVALID_ARGUMENT: You must feed a value for placeholder tensor 'gradients/split_1_grad/concat/split_1/split_dim' with dtype int32\n",
      "\t [[{{node gradients/split_1_grad/concat/split_1/split_dim}}]]\n",
      "2023-05-24 17:33:09.579236: I tensorflow/core/common_runtime/executor.cc:1197] [/device:CPU:0] (DEBUG INFO) Executor start aborting (this does not indicate an error and you can ignore this message): INVALID_ARGUMENT: You must feed a value for placeholder tensor 'inputs' with dtype float and shape [?,?,1024]\n",
      "\t [[{{node inputs}}]]\n",
      "2023-05-24 17:33:09.584488: I tensorflow/core/common_runtime/executor.cc:1197] [/device:CPU:0] (DEBUG INFO) Executor start aborting (this does not indicate an error and you can ignore this message): INVALID_ARGUMENT: You must feed a value for placeholder tensor 'inputs' with dtype float and shape [?,?,1024]\n",
      "\t [[{{node inputs}}]]\n"
     ]
    },
    {
     "name": "stderr",
     "output_type": "stream",
     "text": [
      "2023-05-24 17:33:09.669319: I tensorflow/core/common_runtime/executor.cc:1197] [/device:CPU:0] (DEBUG INFO) Executor start aborting (this does not indicate an error and you can ignore this message): INVALID_ARGUMENT: You must feed a value for placeholder tensor 'gradients/split_2_grad/concat/split_2/split_dim' with dtype int32\n",
      "\t [[{{node gradients/split_2_grad/concat/split_2/split_dim}}]]\n",
      "2023-05-24 17:33:09.670056: I tensorflow/core/common_runtime/executor.cc:1197] [/device:CPU:0] (DEBUG INFO) Executor start aborting (this does not indicate an error and you can ignore this message): INVALID_ARGUMENT: You must feed a value for placeholder tensor 'gradients/split_grad/concat/split/split_dim' with dtype int32\n",
      "\t [[{{node gradients/split_grad/concat/split/split_dim}}]]\n",
      "2023-05-24 17:33:09.670751: I tensorflow/core/common_runtime/executor.cc:1197] [/device:CPU:0] (DEBUG INFO) Executor start aborting (this does not indicate an error and you can ignore this message): INVALID_ARGUMENT: You must feed a value for placeholder tensor 'gradients/split_1_grad/concat/split_1/split_dim' with dtype int32\n",
      "\t [[{{node gradients/split_1_grad/concat/split_1/split_dim}}]]\n",
      "2023-05-24 17:33:09.757889: I tensorflow/core/common_runtime/executor.cc:1197] [/device:CPU:0] (DEBUG INFO) Executor start aborting (this does not indicate an error and you can ignore this message): INVALID_ARGUMENT: You must feed a value for placeholder tensor 'gradients/split_2_grad/concat/split_2/split_dim' with dtype int32\n",
      "\t [[{{node gradients/split_2_grad/concat/split_2/split_dim}}]]\n",
      "2023-05-24 17:33:09.758528: I tensorflow/core/common_runtime/executor.cc:1197] [/device:CPU:0] (DEBUG INFO) Executor start aborting (this does not indicate an error and you can ignore this message): INVALID_ARGUMENT: You must feed a value for placeholder tensor 'gradients/split_grad/concat/split/split_dim' with dtype int32\n",
      "\t [[{{node gradients/split_grad/concat/split/split_dim}}]]\n",
      "2023-05-24 17:33:09.759118: I tensorflow/core/common_runtime/executor.cc:1197] [/device:CPU:0] (DEBUG INFO) Executor start aborting (this does not indicate an error and you can ignore this message): INVALID_ARGUMENT: You must feed a value for placeholder tensor 'gradients/split_1_grad/concat/split_1/split_dim' with dtype int32\n",
      "\t [[{{node gradients/split_1_grad/concat/split_1/split_dim}}]]\n",
      "2023-05-24 17:33:09.854935: I tensorflow/core/common_runtime/executor.cc:1197] [/device:CPU:0] (DEBUG INFO) Executor start aborting (this does not indicate an error and you can ignore this message): INVALID_ARGUMENT: You must feed a value for placeholder tensor 'gradients/split_2_grad/concat/split_2/split_dim' with dtype int32\n",
      "\t [[{{node gradients/split_2_grad/concat/split_2/split_dim}}]]\n",
      "2023-05-24 17:33:09.855572: I tensorflow/core/common_runtime/executor.cc:1197] [/device:CPU:0] (DEBUG INFO) Executor start aborting (this does not indicate an error and you can ignore this message): INVALID_ARGUMENT: You must feed a value for placeholder tensor 'gradients/split_grad/concat/split/split_dim' with dtype int32\n",
      "\t [[{{node gradients/split_grad/concat/split/split_dim}}]]\n",
      "2023-05-24 17:33:09.856178: I tensorflow/core/common_runtime/executor.cc:1197] [/device:CPU:0] (DEBUG INFO) Executor start aborting (this does not indicate an error and you can ignore this message): INVALID_ARGUMENT: You must feed a value for placeholder tensor 'gradients/split_1_grad/concat/split_1/split_dim' with dtype int32\n",
      "\t [[{{node gradients/split_1_grad/concat/split_1/split_dim}}]]\n",
      "2023-05-24 17:33:09.943515: I tensorflow/core/common_runtime/executor.cc:1197] [/device:CPU:0] (DEBUG INFO) Executor start aborting (this does not indicate an error and you can ignore this message): INVALID_ARGUMENT: You must feed a value for placeholder tensor 'gradients/split_2_grad/concat/split_2/split_dim' with dtype int32\n",
      "\t [[{{node gradients/split_2_grad/concat/split_2/split_dim}}]]\n",
      "2023-05-24 17:33:09.944359: I tensorflow/core/common_runtime/executor.cc:1197] [/device:CPU:0] (DEBUG INFO) Executor start aborting (this does not indicate an error and you can ignore this message): INVALID_ARGUMENT: You must feed a value for placeholder tensor 'gradients/split_grad/concat/split/split_dim' with dtype int32\n",
      "\t [[{{node gradients/split_grad/concat/split/split_dim}}]]\n",
      "2023-05-24 17:33:09.945012: I tensorflow/core/common_runtime/executor.cc:1197] [/device:CPU:0] (DEBUG INFO) Executor start aborting (this does not indicate an error and you can ignore this message): INVALID_ARGUMENT: You must feed a value for placeholder tensor 'gradients/split_1_grad/concat/split_1/split_dim' with dtype int32\n",
      "\t [[{{node gradients/split_1_grad/concat/split_1/split_dim}}]]\n",
      "2023-05-24 17:33:10.028259: I tensorflow/core/common_runtime/executor.cc:1197] [/device:CPU:0] (DEBUG INFO) Executor start aborting (this does not indicate an error and you can ignore this message): INVALID_ARGUMENT: You must feed a value for placeholder tensor 'inputs' with dtype float and shape [?,200,1024]\n",
      "\t [[{{node inputs}}]]\n",
      "2023-05-24 17:33:10.154142: I tensorflow/core/common_runtime/executor.cc:1197] [/device:CPU:0] (DEBUG INFO) Executor start aborting (this does not indicate an error and you can ignore this message): INVALID_ARGUMENT: You must feed a value for placeholder tensor 'gradients/split_2_grad/concat/split_2/split_dim' with dtype int32\n",
      "\t [[{{node gradients/split_2_grad/concat/split_2/split_dim}}]]\n",
      "2023-05-24 17:33:10.155847: I tensorflow/core/common_runtime/executor.cc:1197] [/device:CPU:0] (DEBUG INFO) Executor start aborting (this does not indicate an error and you can ignore this message): INVALID_ARGUMENT: You must feed a value for placeholder tensor 'gradients/split_grad/concat/split/split_dim' with dtype int32\n",
      "\t [[{{node gradients/split_grad/concat/split/split_dim}}]]\n",
      "2023-05-24 17:33:10.156807: I tensorflow/core/common_runtime/executor.cc:1197] [/device:CPU:0] (DEBUG INFO) Executor start aborting (this does not indicate an error and you can ignore this message): INVALID_ARGUMENT: You must feed a value for placeholder tensor 'gradients/split_1_grad/concat/split_1/split_dim' with dtype int32\n",
      "\t [[{{node gradients/split_1_grad/concat/split_1/split_dim}}]]\n",
      "2023-05-24 17:33:10.236674: I tensorflow/core/common_runtime/executor.cc:1197] [/device:CPU:0] (DEBUG INFO) Executor start aborting (this does not indicate an error and you can ignore this message): INVALID_ARGUMENT: You must feed a value for placeholder tensor 'gradients/split_2_grad/concat/split_2/split_dim' with dtype int32\n",
      "\t [[{{node gradients/split_2_grad/concat/split_2/split_dim}}]]\n",
      "2023-05-24 17:33:10.237281: I tensorflow/core/common_runtime/executor.cc:1197] [/device:CPU:0] (DEBUG INFO) Executor start aborting (this does not indicate an error and you can ignore this message): INVALID_ARGUMENT: You must feed a value for placeholder tensor 'gradients/split_grad/concat/split/split_dim' with dtype int32\n",
      "\t [[{{node gradients/split_grad/concat/split/split_dim}}]]\n",
      "2023-05-24 17:33:10.237914: I tensorflow/core/common_runtime/executor.cc:1197] [/device:CPU:0] (DEBUG INFO) Executor start aborting (this does not indicate an error and you can ignore this message): INVALID_ARGUMENT: You must feed a value for placeholder tensor 'gradients/split_1_grad/concat/split_1/split_dim' with dtype int32\n",
      "\t [[{{node gradients/split_1_grad/concat/split_1/split_dim}}]]\n",
      "2023-05-24 17:33:10.327023: I tensorflow/core/common_runtime/executor.cc:1197] [/device:CPU:0] (DEBUG INFO) Executor start aborting (this does not indicate an error and you can ignore this message): INVALID_ARGUMENT: You must feed a value for placeholder tensor 'gradients/split_2_grad/concat/split_2/split_dim' with dtype int32\n",
      "\t [[{{node gradients/split_2_grad/concat/split_2/split_dim}}]]\n",
      "2023-05-24 17:33:10.327624: I tensorflow/core/common_runtime/executor.cc:1197] [/device:CPU:0] (DEBUG INFO) Executor start aborting (this does not indicate an error and you can ignore this message): INVALID_ARGUMENT: You must feed a value for placeholder tensor 'gradients/split_grad/concat/split/split_dim' with dtype int32\n",
      "\t [[{{node gradients/split_grad/concat/split/split_dim}}]]\n",
      "2023-05-24 17:33:10.328269: I tensorflow/core/common_runtime/executor.cc:1197] [/device:CPU:0] (DEBUG INFO) Executor start aborting (this does not indicate an error and you can ignore this message): INVALID_ARGUMENT: You must feed a value for placeholder tensor 'gradients/split_1_grad/concat/split_1/split_dim' with dtype int32\n",
      "\t [[{{node gradients/split_1_grad/concat/split_1/split_dim}}]]\n"
     ]
    },
    {
     "name": "stderr",
     "output_type": "stream",
     "text": [
      "2023-05-24 17:33:10.526606: I tensorflow/core/common_runtime/executor.cc:1197] [/device:CPU:0] (DEBUG INFO) Executor start aborting (this does not indicate an error and you can ignore this message): INVALID_ARGUMENT: You must feed a value for placeholder tensor 'gradients/split_2_grad/concat/split_2/split_dim' with dtype int32\n",
      "\t [[{{node gradients/split_2_grad/concat/split_2/split_dim}}]]\n",
      "2023-05-24 17:33:10.527512: I tensorflow/core/common_runtime/executor.cc:1197] [/device:CPU:0] (DEBUG INFO) Executor start aborting (this does not indicate an error and you can ignore this message): INVALID_ARGUMENT: You must feed a value for placeholder tensor 'gradients/split_grad/concat/split/split_dim' with dtype int32\n",
      "\t [[{{node gradients/split_grad/concat/split/split_dim}}]]\n",
      "2023-05-24 17:33:10.528191: I tensorflow/core/common_runtime/executor.cc:1197] [/device:CPU:0] (DEBUG INFO) Executor start aborting (this does not indicate an error and you can ignore this message): INVALID_ARGUMENT: You must feed a value for placeholder tensor 'gradients/split_1_grad/concat/split_1/split_dim' with dtype int32\n",
      "\t [[{{node gradients/split_1_grad/concat/split_1/split_dim}}]]\n",
      "2023-05-24 17:33:10.579644: I tensorflow/core/common_runtime/executor.cc:1197] [/device:CPU:0] (DEBUG INFO) Executor start aborting (this does not indicate an error and you can ignore this message): INVALID_ARGUMENT: You must feed a value for placeholder tensor 'inputs_0' with dtype float and shape [?,?,512]\n",
      "\t [[{{node inputs_0}}]]\n",
      "2023-05-24 17:33:10.584569: I tensorflow/core/common_runtime/executor.cc:1197] [/device:CPU:0] (DEBUG INFO) Executor start aborting (this does not indicate an error and you can ignore this message): INVALID_ARGUMENT: You must feed a value for placeholder tensor 'inputs_0' with dtype float and shape [?,?,512]\n",
      "\t [[{{node inputs_0}}]]\n",
      "2023-05-24 17:33:10.667665: I tensorflow/core/common_runtime/executor.cc:1197] [/device:CPU:0] (DEBUG INFO) Executor start aborting (this does not indicate an error and you can ignore this message): INVALID_ARGUMENT: You must feed a value for placeholder tensor 'gradients/split_2_grad/concat/split_2/split_dim' with dtype int32\n",
      "\t [[{{node gradients/split_2_grad/concat/split_2/split_dim}}]]\n",
      "2023-05-24 17:33:10.668323: I tensorflow/core/common_runtime/executor.cc:1197] [/device:CPU:0] (DEBUG INFO) Executor start aborting (this does not indicate an error and you can ignore this message): INVALID_ARGUMENT: You must feed a value for placeholder tensor 'gradients/split_grad/concat/split/split_dim' with dtype int32\n",
      "\t [[{{node gradients/split_grad/concat/split/split_dim}}]]\n",
      "2023-05-24 17:33:10.668902: I tensorflow/core/common_runtime/executor.cc:1197] [/device:CPU:0] (DEBUG INFO) Executor start aborting (this does not indicate an error and you can ignore this message): INVALID_ARGUMENT: You must feed a value for placeholder tensor 'gradients/split_1_grad/concat/split_1/split_dim' with dtype int32\n",
      "\t [[{{node gradients/split_1_grad/concat/split_1/split_dim}}]]\n",
      "2023-05-24 17:33:10.754194: I tensorflow/core/common_runtime/executor.cc:1197] [/device:CPU:0] (DEBUG INFO) Executor start aborting (this does not indicate an error and you can ignore this message): INVALID_ARGUMENT: You must feed a value for placeholder tensor 'gradients/split_2_grad/concat/split_2/split_dim' with dtype int32\n",
      "\t [[{{node gradients/split_2_grad/concat/split_2/split_dim}}]]\n",
      "2023-05-24 17:33:10.755095: I tensorflow/core/common_runtime/executor.cc:1197] [/device:CPU:0] (DEBUG INFO) Executor start aborting (this does not indicate an error and you can ignore this message): INVALID_ARGUMENT: You must feed a value for placeholder tensor 'gradients/split_grad/concat/split/split_dim' with dtype int32\n",
      "\t [[{{node gradients/split_grad/concat/split/split_dim}}]]\n",
      "2023-05-24 17:33:10.755669: I tensorflow/core/common_runtime/executor.cc:1197] [/device:CPU:0] (DEBUG INFO) Executor start aborting (this does not indicate an error and you can ignore this message): INVALID_ARGUMENT: You must feed a value for placeholder tensor 'gradients/split_1_grad/concat/split_1/split_dim' with dtype int32\n",
      "\t [[{{node gradients/split_1_grad/concat/split_1/split_dim}}]]\n",
      "2023-05-24 17:33:10.834138: I tensorflow/core/common_runtime/executor.cc:1197] [/device:CPU:0] (DEBUG INFO) Executor start aborting (this does not indicate an error and you can ignore this message): INVALID_ARGUMENT: You must feed a value for placeholder tensor 'gradients/split_2_grad/concat/split_2/split_dim' with dtype int32\n",
      "\t [[{{node gradients/split_2_grad/concat/split_2/split_dim}}]]\n",
      "2023-05-24 17:33:10.834756: I tensorflow/core/common_runtime/executor.cc:1197] [/device:CPU:0] (DEBUG INFO) Executor start aborting (this does not indicate an error and you can ignore this message): INVALID_ARGUMENT: You must feed a value for placeholder tensor 'gradients/split_grad/concat/split/split_dim' with dtype int32\n",
      "\t [[{{node gradients/split_grad/concat/split/split_dim}}]]\n",
      "2023-05-24 17:33:10.835334: I tensorflow/core/common_runtime/executor.cc:1197] [/device:CPU:0] (DEBUG INFO) Executor start aborting (this does not indicate an error and you can ignore this message): INVALID_ARGUMENT: You must feed a value for placeholder tensor 'gradients/split_1_grad/concat/split_1/split_dim' with dtype int32\n",
      "\t [[{{node gradients/split_1_grad/concat/split_1/split_dim}}]]\n",
      "2023-05-24 17:33:10.913403: I tensorflow/core/common_runtime/executor.cc:1197] [/device:CPU:0] (DEBUG INFO) Executor start aborting (this does not indicate an error and you can ignore this message): INVALID_ARGUMENT: You must feed a value for placeholder tensor 'gradients/split_2_grad/concat/split_2/split_dim' with dtype int32\n",
      "\t [[{{node gradients/split_2_grad/concat/split_2/split_dim}}]]\n",
      "2023-05-24 17:33:10.914019: I tensorflow/core/common_runtime/executor.cc:1197] [/device:CPU:0] (DEBUG INFO) Executor start aborting (this does not indicate an error and you can ignore this message): INVALID_ARGUMENT: You must feed a value for placeholder tensor 'gradients/split_grad/concat/split/split_dim' with dtype int32\n",
      "\t [[{{node gradients/split_grad/concat/split/split_dim}}]]\n",
      "2023-05-24 17:33:10.914589: I tensorflow/core/common_runtime/executor.cc:1197] [/device:CPU:0] (DEBUG INFO) Executor start aborting (this does not indicate an error and you can ignore this message): INVALID_ARGUMENT: You must feed a value for placeholder tensor 'gradients/split_1_grad/concat/split_1/split_dim' with dtype int32\n",
      "\t [[{{node gradients/split_1_grad/concat/split_1/split_dim}}]]\n",
      "2023-05-24 17:33:10.931923: I tensorflow/core/common_runtime/executor.cc:1197] [/device:CPU:0] (DEBUG INFO) Executor start aborting (this does not indicate an error and you can ignore this message): INVALID_ARGUMENT: You must feed a value for placeholder tensor 'inputs_0' with dtype float and shape [?,?,1024]\n",
      "\t [[{{node inputs_0}}]]\n",
      "2023-05-24 17:33:10.936902: I tensorflow/core/common_runtime/executor.cc:1197] [/device:CPU:0] (DEBUG INFO) Executor start aborting (this does not indicate an error and you can ignore this message): INVALID_ARGUMENT: You must feed a value for placeholder tensor 'inputs_0' with dtype float and shape [?,?,1024]\n",
      "\t [[{{node inputs_0}}]]\n",
      "2023-05-24 17:33:11.024167: I tensorflow/core/common_runtime/executor.cc:1197] [/device:CPU:0] (DEBUG INFO) Executor start aborting (this does not indicate an error and you can ignore this message): INVALID_ARGUMENT: You must feed a value for placeholder tensor 'gradients/split_2_grad/concat/split_2/split_dim' with dtype int32\n",
      "\t [[{{node gradients/split_2_grad/concat/split_2/split_dim}}]]\n",
      "2023-05-24 17:33:11.024845: I tensorflow/core/common_runtime/executor.cc:1197] [/device:CPU:0] (DEBUG INFO) Executor start aborting (this does not indicate an error and you can ignore this message): INVALID_ARGUMENT: You must feed a value for placeholder tensor 'gradients/split_grad/concat/split/split_dim' with dtype int32\n",
      "\t [[{{node gradients/split_grad/concat/split/split_dim}}]]\n",
      "2023-05-24 17:33:11.025492: I tensorflow/core/common_runtime/executor.cc:1197] [/device:CPU:0] (DEBUG INFO) Executor start aborting (this does not indicate an error and you can ignore this message): INVALID_ARGUMENT: You must feed a value for placeholder tensor 'gradients/split_1_grad/concat/split_1/split_dim' with dtype int32\n",
      "\t [[{{node gradients/split_1_grad/concat/split_1/split_dim}}]]\n",
      "2023-05-24 17:33:11.106079: I tensorflow/core/common_runtime/executor.cc:1197] [/device:CPU:0] (DEBUG INFO) Executor start aborting (this does not indicate an error and you can ignore this message): INVALID_ARGUMENT: You must feed a value for placeholder tensor 'gradients/split_2_grad/concat/split_2/split_dim' with dtype int32\n",
      "\t [[{{node gradients/split_2_grad/concat/split_2/split_dim}}]]\n",
      "2023-05-24 17:33:11.106725: I tensorflow/core/common_runtime/executor.cc:1197] [/device:CPU:0] (DEBUG INFO) Executor start aborting (this does not indicate an error and you can ignore this message): INVALID_ARGUMENT: You must feed a value for placeholder tensor 'gradients/split_grad/concat/split/split_dim' with dtype int32\n",
      "\t [[{{node gradients/split_grad/concat/split/split_dim}}]]\n",
      "2023-05-24 17:33:11.107317: I tensorflow/core/common_runtime/executor.cc:1197] [/device:CPU:0] (DEBUG INFO) Executor start aborting (this does not indicate an error and you can ignore this message): INVALID_ARGUMENT: You must feed a value for placeholder tensor 'gradients/split_1_grad/concat/split_1/split_dim' with dtype int32\n",
      "\t [[{{node gradients/split_1_grad/concat/split_1/split_dim}}]]\n",
      "2023-05-24 17:33:11.185027: I tensorflow/core/common_runtime/executor.cc:1197] [/device:CPU:0] (DEBUG INFO) Executor start aborting (this does not indicate an error and you can ignore this message): INVALID_ARGUMENT: You must feed a value for placeholder tensor 'gradients/split_2_grad/concat/split_2/split_dim' with dtype int32\n",
      "\t [[{{node gradients/split_2_grad/concat/split_2/split_dim}}]]\n",
      "2023-05-24 17:33:11.185665: I tensorflow/core/common_runtime/executor.cc:1197] [/device:CPU:0] (DEBUG INFO) Executor start aborting (this does not indicate an error and you can ignore this message): INVALID_ARGUMENT: You must feed a value for placeholder tensor 'gradients/split_grad/concat/split/split_dim' with dtype int32\n",
      "\t [[{{node gradients/split_grad/concat/split/split_dim}}]]\n",
      "2023-05-24 17:33:11.186220: I tensorflow/core/common_runtime/executor.cc:1197] [/device:CPU:0] (DEBUG INFO) Executor start aborting (this does not indicate an error and you can ignore this message): INVALID_ARGUMENT: You must feed a value for placeholder tensor 'gradients/split_1_grad/concat/split_1/split_dim' with dtype int32\n",
      "\t [[{{node gradients/split_1_grad/concat/split_1/split_dim}}]]\n"
     ]
    },
    {
     "name": "stderr",
     "output_type": "stream",
     "text": [
      "2023-05-24 17:33:11.268094: I tensorflow/core/common_runtime/executor.cc:1197] [/device:CPU:0] (DEBUG INFO) Executor start aborting (this does not indicate an error and you can ignore this message): INVALID_ARGUMENT: You must feed a value for placeholder tensor 'gradients/split_2_grad/concat/split_2/split_dim' with dtype int32\n",
      "\t [[{{node gradients/split_2_grad/concat/split_2/split_dim}}]]\n",
      "2023-05-24 17:33:11.268983: I tensorflow/core/common_runtime/executor.cc:1197] [/device:CPU:0] (DEBUG INFO) Executor start aborting (this does not indicate an error and you can ignore this message): INVALID_ARGUMENT: You must feed a value for placeholder tensor 'gradients/split_grad/concat/split/split_dim' with dtype int32\n",
      "\t [[{{node gradients/split_grad/concat/split/split_dim}}]]\n",
      "2023-05-24 17:33:11.269557: I tensorflow/core/common_runtime/executor.cc:1197] [/device:CPU:0] (DEBUG INFO) Executor start aborting (this does not indicate an error and you can ignore this message): INVALID_ARGUMENT: You must feed a value for placeholder tensor 'gradients/split_1_grad/concat/split_1/split_dim' with dtype int32\n",
      "\t [[{{node gradients/split_1_grad/concat/split_1/split_dim}}]]\n",
      "2023-05-24 17:33:11.285463: I tensorflow/core/common_runtime/executor.cc:1197] [/device:CPU:0] (DEBUG INFO) Executor start aborting (this does not indicate an error and you can ignore this message): INVALID_ARGUMENT: You must feed a value for placeholder tensor 'inputs' with dtype float and shape [?,200,1024]\n",
      "\t [[{{node inputs}}]]\n",
      "WARNING:absl:Found untraced functions such as _jit_compiled_convolution_op, gru_cell_layer_call_fn, gru_cell_layer_call_and_return_conditional_losses, gru_cell_1_layer_call_fn, gru_cell_1_layer_call_and_return_conditional_losses while saving (showing 5 of 5). These functions will not be directly callable after loading.\n"
     ]
    },
    {
     "name": "stdout",
     "output_type": "stream",
     "text": [
      "INFO:tensorflow:Assets written to: one_step/assets\n"
     ]
    },
    {
     "name": "stderr",
     "output_type": "stream",
     "text": [
      "INFO:tensorflow:Assets written to: one_step/assets\n",
      "2023-05-24 17:33:12.104104: I tensorflow/core/common_runtime/executor.cc:1197] [/device:CPU:0] (DEBUG INFO) Executor start aborting (this does not indicate an error and you can ignore this message): INVALID_ARGUMENT: You must feed a value for placeholder tensor 'gradients_split_2_grad_concat_split_2_split_dim' with dtype int32\n",
      "\t [[{{node gradients_split_2_grad_concat_split_2_split_dim}}]]\n",
      "2023-05-24 17:33:12.104181: I tensorflow/core/common_runtime/executor.cc:1197] [/device:CPU:0] (DEBUG INFO) Executor start aborting (this does not indicate an error and you can ignore this message): INVALID_ARGUMENT: You must feed a value for placeholder tensor 'gradients_split_grad_concat_split_split_dim' with dtype int32\n",
      "\t [[{{node gradients_split_grad_concat_split_split_dim}}]]\n",
      "2023-05-24 17:33:12.104226: I tensorflow/core/common_runtime/executor.cc:1197] [/device:CPU:0] (DEBUG INFO) Executor start aborting (this does not indicate an error and you can ignore this message): INVALID_ARGUMENT: You must feed a value for placeholder tensor 'gradients_split_1_grad_concat_split_1_split_dim' with dtype int32\n",
      "\t [[{{node gradients_split_1_grad_concat_split_1_split_dim}}]]\n",
      "2023-05-24 17:33:12.134164: I tensorflow/core/common_runtime/executor.cc:1197] [/device:CPU:0] (DEBUG INFO) Executor start aborting (this does not indicate an error and you can ignore this message): INVALID_ARGUMENT: You must feed a value for placeholder tensor 'gradients_split_2_grad_concat_split_2_split_dim' with dtype int32\n",
      "\t [[{{node gradients_split_2_grad_concat_split_2_split_dim}}]]\n",
      "2023-05-24 17:33:12.134238: I tensorflow/core/common_runtime/executor.cc:1197] [/device:CPU:0] (DEBUG INFO) Executor start aborting (this does not indicate an error and you can ignore this message): INVALID_ARGUMENT: You must feed a value for placeholder tensor 'gradients_split_grad_concat_split_split_dim' with dtype int32\n",
      "\t [[{{node gradients_split_grad_concat_split_split_dim}}]]\n",
      "2023-05-24 17:33:12.134278: I tensorflow/core/common_runtime/executor.cc:1197] [/device:CPU:0] (DEBUG INFO) Executor start aborting (this does not indicate an error and you can ignore this message): INVALID_ARGUMENT: You must feed a value for placeholder tensor 'gradients_split_1_grad_concat_split_1_split_dim' with dtype int32\n",
      "\t [[{{node gradients_split_1_grad_concat_split_1_split_dim}}]]\n",
      "2023-05-24 17:33:12.178329: I tensorflow/core/common_runtime/executor.cc:1197] [/device:CPU:0] (DEBUG INFO) Executor start aborting (this does not indicate an error and you can ignore this message): INVALID_ARGUMENT: You must feed a value for placeholder tensor 'gradients_split_2_grad_concat_split_2_split_dim' with dtype int32\n",
      "\t [[{{node gradients_split_2_grad_concat_split_2_split_dim}}]]\n",
      "2023-05-24 17:33:12.178403: I tensorflow/core/common_runtime/executor.cc:1197] [/device:CPU:0] (DEBUG INFO) Executor start aborting (this does not indicate an error and you can ignore this message): INVALID_ARGUMENT: You must feed a value for placeholder tensor 'gradients_split_grad_concat_split_split_dim' with dtype int32\n",
      "\t [[{{node gradients_split_grad_concat_split_split_dim}}]]\n",
      "2023-05-24 17:33:12.178443: I tensorflow/core/common_runtime/executor.cc:1197] [/device:CPU:0] (DEBUG INFO) Executor start aborting (this does not indicate an error and you can ignore this message): INVALID_ARGUMENT: You must feed a value for placeholder tensor 'gradients_split_1_grad_concat_split_1_split_dim' with dtype int32\n",
      "\t [[{{node gradients_split_1_grad_concat_split_1_split_dim}}]]\n",
      "2023-05-24 17:33:12.244216: I tensorflow/core/common_runtime/executor.cc:1197] [/device:CPU:0] (DEBUG INFO) Executor start aborting (this does not indicate an error and you can ignore this message): INVALID_ARGUMENT: You must feed a value for placeholder tensor 'gradients_split_2_grad_concat_split_2_split_dim' with dtype int32\n",
      "\t [[{{node gradients_split_2_grad_concat_split_2_split_dim}}]]\n",
      "2023-05-24 17:33:12.244292: I tensorflow/core/common_runtime/executor.cc:1197] [/device:CPU:0] (DEBUG INFO) Executor start aborting (this does not indicate an error and you can ignore this message): INVALID_ARGUMENT: You must feed a value for placeholder tensor 'gradients_split_grad_concat_split_split_dim' with dtype int32\n",
      "\t [[{{node gradients_split_grad_concat_split_split_dim}}]]\n",
      "2023-05-24 17:33:12.244332: I tensorflow/core/common_runtime/executor.cc:1197] [/device:CPU:0] (DEBUG INFO) Executor start aborting (this does not indicate an error and you can ignore this message): INVALID_ARGUMENT: You must feed a value for placeholder tensor 'gradients_split_1_grad_concat_split_1_split_dim' with dtype int32\n",
      "\t [[{{node gradients_split_1_grad_concat_split_1_split_dim}}]]\n",
      "2023-05-24 17:33:12.253939: I tensorflow/core/common_runtime/executor.cc:1197] [/device:CPU:0] (DEBUG INFO) Executor start aborting (this does not indicate an error and you can ignore this message): INVALID_ARGUMENT: You must feed a value for placeholder tensor 'gradients_split_2_grad_concat_split_2_split_dim' with dtype int32\n",
      "\t [[{{node gradients_split_2_grad_concat_split_2_split_dim}}]]\n",
      "2023-05-24 17:33:12.254011: I tensorflow/core/common_runtime/executor.cc:1197] [/device:CPU:0] (DEBUG INFO) Executor start aborting (this does not indicate an error and you can ignore this message): INVALID_ARGUMENT: You must feed a value for placeholder tensor 'gradients_split_grad_concat_split_split_dim' with dtype int32\n",
      "\t [[{{node gradients_split_grad_concat_split_split_dim}}]]\n",
      "2023-05-24 17:33:12.254056: I tensorflow/core/common_runtime/executor.cc:1197] [/device:CPU:0] (DEBUG INFO) Executor start aborting (this does not indicate an error and you can ignore this message): INVALID_ARGUMENT: You must feed a value for placeholder tensor 'gradients_split_1_grad_concat_split_1_split_dim' with dtype int32\n",
      "\t [[{{node gradients_split_1_grad_concat_split_1_split_dim}}]]\n",
      "2023-05-24 17:33:12.268079: I tensorflow/core/common_runtime/executor.cc:1197] [/device:CPU:0] (DEBUG INFO) Executor start aborting (this does not indicate an error and you can ignore this message): INVALID_ARGUMENT: You must feed a value for placeholder tensor 'gradients_split_2_grad_concat_split_2_split_dim' with dtype int32\n",
      "\t [[{{node gradients_split_2_grad_concat_split_2_split_dim}}]]\n",
      "2023-05-24 17:33:12.268150: I tensorflow/core/common_runtime/executor.cc:1197] [/device:CPU:0] (DEBUG INFO) Executor start aborting (this does not indicate an error and you can ignore this message): INVALID_ARGUMENT: You must feed a value for placeholder tensor 'gradients_split_grad_concat_split_split_dim' with dtype int32\n",
      "\t [[{{node gradients_split_grad_concat_split_split_dim}}]]\n",
      "2023-05-24 17:33:12.268190: I tensorflow/core/common_runtime/executor.cc:1197] [/device:CPU:0] (DEBUG INFO) Executor start aborting (this does not indicate an error and you can ignore this message): INVALID_ARGUMENT: You must feed a value for placeholder tensor 'gradients_split_1_grad_concat_split_1_split_dim' with dtype int32\n",
      "\t [[{{node gradients_split_1_grad_concat_split_1_split_dim}}]]\n",
      "2023-05-24 17:33:12.319311: I tensorflow/core/common_runtime/executor.cc:1197] [/device:CPU:0] (DEBUG INFO) Executor start aborting (this does not indicate an error and you can ignore this message): INVALID_ARGUMENT: You must feed a value for placeholder tensor 'gradients_split_2_grad_concat_split_2_split_dim' with dtype int32\n",
      "\t [[{{node gradients_split_2_grad_concat_split_2_split_dim}}]]\n",
      "2023-05-24 17:33:12.319384: I tensorflow/core/common_runtime/executor.cc:1197] [/device:CPU:0] (DEBUG INFO) Executor start aborting (this does not indicate an error and you can ignore this message): INVALID_ARGUMENT: You must feed a value for placeholder tensor 'gradients_split_grad_concat_split_split_dim' with dtype int32\n",
      "\t [[{{node gradients_split_grad_concat_split_split_dim}}]]\n",
      "2023-05-24 17:33:12.319426: I tensorflow/core/common_runtime/executor.cc:1197] [/device:CPU:0] (DEBUG INFO) Executor start aborting (this does not indicate an error and you can ignore this message): INVALID_ARGUMENT: You must feed a value for placeholder tensor 'gradients_split_1_grad_concat_split_1_split_dim' with dtype int32\n",
      "\t [[{{node gradients_split_1_grad_concat_split_1_split_dim}}]]\n",
      "2023-05-24 17:33:12.411322: I tensorflow/core/common_runtime/executor.cc:1197] [/device:CPU:0] (DEBUG INFO) Executor start aborting (this does not indicate an error and you can ignore this message): INVALID_ARGUMENT: You must feed a value for placeholder tensor 'gradients_split_2_grad_concat_split_2_split_dim' with dtype int32\n",
      "\t [[{{node gradients_split_2_grad_concat_split_2_split_dim}}]]\n",
      "2023-05-24 17:33:12.411396: I tensorflow/core/common_runtime/executor.cc:1197] [/device:CPU:0] (DEBUG INFO) Executor start aborting (this does not indicate an error and you can ignore this message): INVALID_ARGUMENT: You must feed a value for placeholder tensor 'gradients_split_grad_concat_split_split_dim' with dtype int32\n",
      "\t [[{{node gradients_split_grad_concat_split_split_dim}}]]\n",
      "2023-05-24 17:33:12.411437: I tensorflow/core/common_runtime/executor.cc:1197] [/device:CPU:0] (DEBUG INFO) Executor start aborting (this does not indicate an error and you can ignore this message): INVALID_ARGUMENT: You must feed a value for placeholder tensor 'gradients_split_1_grad_concat_split_1_split_dim' with dtype int32\n",
      "\t [[{{node gradients_split_1_grad_concat_split_1_split_dim}}]]\n",
      "2023-05-24 17:33:12.439656: I tensorflow/core/common_runtime/executor.cc:1197] [/device:CPU:0] (DEBUG INFO) Executor start aborting (this does not indicate an error and you can ignore this message): INVALID_ARGUMENT: You must feed a value for placeholder tensor 'gradients_split_2_grad_concat_split_2_split_dim' with dtype int32\n",
      "\t [[{{node gradients_split_2_grad_concat_split_2_split_dim}}]]\n",
      "2023-05-24 17:33:12.439728: I tensorflow/core/common_runtime/executor.cc:1197] [/device:CPU:0] (DEBUG INFO) Executor start aborting (this does not indicate an error and you can ignore this message): INVALID_ARGUMENT: You must feed a value for placeholder tensor 'gradients_split_grad_concat_split_split_dim' with dtype int32\n",
      "\t [[{{node gradients_split_grad_concat_split_split_dim}}]]\n",
      "2023-05-24 17:33:12.439768: I tensorflow/core/common_runtime/executor.cc:1197] [/device:CPU:0] (DEBUG INFO) Executor start aborting (this does not indicate an error and you can ignore this message): INVALID_ARGUMENT: You must feed a value for placeholder tensor 'gradients_split_1_grad_concat_split_1_split_dim' with dtype int32\n",
      "\t [[{{node gradients_split_1_grad_concat_split_1_split_dim}}]]\n"
     ]
    },
    {
     "name": "stderr",
     "output_type": "stream",
     "text": [
      "2023-05-24 17:33:12.460563: I tensorflow/core/common_runtime/executor.cc:1197] [/device:CPU:0] (DEBUG INFO) Executor start aborting (this does not indicate an error and you can ignore this message): INVALID_ARGUMENT: You must feed a value for placeholder tensor 'gradients_split_2_grad_concat_split_2_split_dim' with dtype int32\n",
      "\t [[{{node gradients_split_2_grad_concat_split_2_split_dim}}]]\n",
      "2023-05-24 17:33:12.460643: I tensorflow/core/common_runtime/executor.cc:1197] [/device:CPU:0] (DEBUG INFO) Executor start aborting (this does not indicate an error and you can ignore this message): INVALID_ARGUMENT: You must feed a value for placeholder tensor 'gradients_split_grad_concat_split_split_dim' with dtype int32\n",
      "\t [[{{node gradients_split_grad_concat_split_split_dim}}]]\n",
      "2023-05-24 17:33:12.460689: I tensorflow/core/common_runtime/executor.cc:1197] [/device:CPU:0] (DEBUG INFO) Executor start aborting (this does not indicate an error and you can ignore this message): INVALID_ARGUMENT: You must feed a value for placeholder tensor 'gradients_split_1_grad_concat_split_1_split_dim' with dtype int32\n",
      "\t [[{{node gradients_split_1_grad_concat_split_1_split_dim}}]]\n",
      "2023-05-24 17:33:12.482985: I tensorflow/core/common_runtime/executor.cc:1197] [/device:CPU:0] (DEBUG INFO) Executor start aborting (this does not indicate an error and you can ignore this message): INVALID_ARGUMENT: You must feed a value for placeholder tensor 'gradients_split_2_grad_concat_split_2_split_dim' with dtype int32\n",
      "\t [[{{node gradients_split_2_grad_concat_split_2_split_dim}}]]\n",
      "2023-05-24 17:33:12.483070: I tensorflow/core/common_runtime/executor.cc:1197] [/device:CPU:0] (DEBUG INFO) Executor start aborting (this does not indicate an error and you can ignore this message): INVALID_ARGUMENT: You must feed a value for placeholder tensor 'gradients_split_grad_concat_split_split_dim' with dtype int32\n",
      "\t [[{{node gradients_split_grad_concat_split_split_dim}}]]\n",
      "2023-05-24 17:33:12.483115: I tensorflow/core/common_runtime/executor.cc:1197] [/device:CPU:0] (DEBUG INFO) Executor start aborting (this does not indicate an error and you can ignore this message): INVALID_ARGUMENT: You must feed a value for placeholder tensor 'gradients_split_1_grad_concat_split_1_split_dim' with dtype int32\n",
      "\t [[{{node gradients_split_1_grad_concat_split_1_split_dim}}]]\n",
      "2023-05-24 17:33:12.498899: I tensorflow/core/common_runtime/executor.cc:1197] [/device:CPU:0] (DEBUG INFO) Executor start aborting (this does not indicate an error and you can ignore this message): INVALID_ARGUMENT: You must feed a value for placeholder tensor 'gradients_split_2_grad_concat_split_2_split_dim' with dtype int32\n",
      "\t [[{{node gradients_split_2_grad_concat_split_2_split_dim}}]]\n",
      "2023-05-24 17:33:12.498971: I tensorflow/core/common_runtime/executor.cc:1197] [/device:CPU:0] (DEBUG INFO) Executor start aborting (this does not indicate an error and you can ignore this message): INVALID_ARGUMENT: You must feed a value for placeholder tensor 'gradients_split_grad_concat_split_split_dim' with dtype int32\n",
      "\t [[{{node gradients_split_grad_concat_split_split_dim}}]]\n",
      "2023-05-24 17:33:12.499017: I tensorflow/core/common_runtime/executor.cc:1197] [/device:CPU:0] (DEBUG INFO) Executor start aborting (this does not indicate an error and you can ignore this message): INVALID_ARGUMENT: You must feed a value for placeholder tensor 'gradients_split_1_grad_concat_split_1_split_dim' with dtype int32\n",
      "\t [[{{node gradients_split_1_grad_concat_split_1_split_dim}}]]\n",
      "2023-05-24 17:33:12.508176: I tensorflow/core/common_runtime/executor.cc:1197] [/device:CPU:0] (DEBUG INFO) Executor start aborting (this does not indicate an error and you can ignore this message): INVALID_ARGUMENT: You must feed a value for placeholder tensor 'gradients_split_2_grad_concat_split_2_split_dim' with dtype int32\n",
      "\t [[{{node gradients_split_2_grad_concat_split_2_split_dim}}]]\n",
      "2023-05-24 17:33:12.508240: I tensorflow/core/common_runtime/executor.cc:1197] [/device:CPU:0] (DEBUG INFO) Executor start aborting (this does not indicate an error and you can ignore this message): INVALID_ARGUMENT: You must feed a value for placeholder tensor 'gradients_split_grad_concat_split_split_dim' with dtype int32\n",
      "\t [[{{node gradients_split_grad_concat_split_split_dim}}]]\n",
      "2023-05-24 17:33:12.508280: I tensorflow/core/common_runtime/executor.cc:1197] [/device:CPU:0] (DEBUG INFO) Executor start aborting (this does not indicate an error and you can ignore this message): INVALID_ARGUMENT: You must feed a value for placeholder tensor 'gradients_split_1_grad_concat_split_1_split_dim' with dtype int32\n",
      "\t [[{{node gradients_split_1_grad_concat_split_1_split_dim}}]]\n",
      "2023-05-24 17:33:12.522688: I tensorflow/core/common_runtime/executor.cc:1197] [/device:CPU:0] (DEBUG INFO) Executor start aborting (this does not indicate an error and you can ignore this message): INVALID_ARGUMENT: You must feed a value for placeholder tensor 'gradients_split_2_grad_concat_split_2_split_dim' with dtype int32\n",
      "\t [[{{node gradients_split_2_grad_concat_split_2_split_dim}}]]\n",
      "2023-05-24 17:33:12.522762: I tensorflow/core/common_runtime/executor.cc:1197] [/device:CPU:0] (DEBUG INFO) Executor start aborting (this does not indicate an error and you can ignore this message): INVALID_ARGUMENT: You must feed a value for placeholder tensor 'gradients_split_grad_concat_split_split_dim' with dtype int32\n",
      "\t [[{{node gradients_split_grad_concat_split_split_dim}}]]\n",
      "2023-05-24 17:33:12.522806: I tensorflow/core/common_runtime/executor.cc:1197] [/device:CPU:0] (DEBUG INFO) Executor start aborting (this does not indicate an error and you can ignore this message): INVALID_ARGUMENT: You must feed a value for placeholder tensor 'gradients_split_1_grad_concat_split_1_split_dim' with dtype int32\n",
      "\t [[{{node gradients_split_1_grad_concat_split_1_split_dim}}]]\n",
      "2023-05-24 17:33:12.601488: I tensorflow/core/common_runtime/executor.cc:1197] [/device:CPU:0] (DEBUG INFO) Executor start aborting (this does not indicate an error and you can ignore this message): INVALID_ARGUMENT: You must feed a value for placeholder tensor 'gradients_split_2_grad_concat_split_2_split_dim' with dtype int32\n",
      "\t [[{{node gradients_split_2_grad_concat_split_2_split_dim}}]]\n",
      "2023-05-24 17:33:12.601562: I tensorflow/core/common_runtime/executor.cc:1197] [/device:CPU:0] (DEBUG INFO) Executor start aborting (this does not indicate an error and you can ignore this message): INVALID_ARGUMENT: You must feed a value for placeholder tensor 'gradients_split_grad_concat_split_split_dim' with dtype int32\n",
      "\t [[{{node gradients_split_grad_concat_split_split_dim}}]]\n",
      "2023-05-24 17:33:12.601603: I tensorflow/core/common_runtime/executor.cc:1197] [/device:CPU:0] (DEBUG INFO) Executor start aborting (this does not indicate an error and you can ignore this message): INVALID_ARGUMENT: You must feed a value for placeholder tensor 'gradients_split_1_grad_concat_split_1_split_dim' with dtype int32\n",
      "\t [[{{node gradients_split_1_grad_concat_split_1_split_dim}}]]\n",
      "2023-05-24 17:33:12.669063: I tensorflow/core/common_runtime/executor.cc:1197] [/device:CPU:0] (DEBUG INFO) Executor start aborting (this does not indicate an error and you can ignore this message): INVALID_ARGUMENT: You must feed a value for placeholder tensor 'gradients_split_2_grad_concat_split_2_split_dim' with dtype int32\n",
      "\t [[{{node gradients_split_2_grad_concat_split_2_split_dim}}]]\n",
      "2023-05-24 17:33:12.669182: I tensorflow/core/common_runtime/executor.cc:1197] [/device:CPU:0] (DEBUG INFO) Executor start aborting (this does not indicate an error and you can ignore this message): INVALID_ARGUMENT: You must feed a value for placeholder tensor 'gradients_split_grad_concat_split_split_dim' with dtype int32\n",
      "\t [[{{node gradients_split_grad_concat_split_split_dim}}]]\n",
      "2023-05-24 17:33:12.669230: I tensorflow/core/common_runtime/executor.cc:1197] [/device:CPU:0] (DEBUG INFO) Executor start aborting (this does not indicate an error and you can ignore this message): INVALID_ARGUMENT: You must feed a value for placeholder tensor 'gradients_split_1_grad_concat_split_1_split_dim' with dtype int32\n",
      "\t [[{{node gradients_split_1_grad_concat_split_1_split_dim}}]]\n",
      "2023-05-24 17:33:12.714768: I tensorflow/core/common_runtime/executor.cc:1197] [/device:CPU:0] (DEBUG INFO) Executor start aborting (this does not indicate an error and you can ignore this message): INVALID_ARGUMENT: You must feed a value for placeholder tensor 'gradients_split_2_grad_concat_split_2_split_dim' with dtype int32\n",
      "\t [[{{node gradients_split_2_grad_concat_split_2_split_dim}}]]\n",
      "2023-05-24 17:33:12.714846: I tensorflow/core/common_runtime/executor.cc:1197] [/device:CPU:0] (DEBUG INFO) Executor start aborting (this does not indicate an error and you can ignore this message): INVALID_ARGUMENT: You must feed a value for placeholder tensor 'gradients_split_grad_concat_split_split_dim' with dtype int32\n",
      "\t [[{{node gradients_split_grad_concat_split_split_dim}}]]\n",
      "2023-05-24 17:33:12.714888: I tensorflow/core/common_runtime/executor.cc:1197] [/device:CPU:0] (DEBUG INFO) Executor start aborting (this does not indicate an error and you can ignore this message): INVALID_ARGUMENT: You must feed a value for placeholder tensor 'gradients_split_1_grad_concat_split_1_split_dim' with dtype int32\n",
      "\t [[{{node gradients_split_1_grad_concat_split_1_split_dim}}]]\n"
     ]
    },
    {
     "name": "stderr",
     "output_type": "stream",
     "text": [
      "2023-05-24 17:33:12.755977: I tensorflow/core/common_runtime/executor.cc:1197] [/device:CPU:0] (DEBUG INFO) Executor start aborting (this does not indicate an error and you can ignore this message): INVALID_ARGUMENT: You must feed a value for placeholder tensor 'gradients_split_2_grad_concat_split_2_split_dim' with dtype int32\n",
      "\t [[{{node gradients_split_2_grad_concat_split_2_split_dim}}]]\n",
      "2023-05-24 17:33:12.756051: I tensorflow/core/common_runtime/executor.cc:1197] [/device:CPU:0] (DEBUG INFO) Executor start aborting (this does not indicate an error and you can ignore this message): INVALID_ARGUMENT: You must feed a value for placeholder tensor 'gradients_split_grad_concat_split_split_dim' with dtype int32\n",
      "\t [[{{node gradients_split_grad_concat_split_split_dim}}]]\n",
      "2023-05-24 17:33:12.756092: I tensorflow/core/common_runtime/executor.cc:1197] [/device:CPU:0] (DEBUG INFO) Executor start aborting (this does not indicate an error and you can ignore this message): INVALID_ARGUMENT: You must feed a value for placeholder tensor 'gradients_split_1_grad_concat_split_1_split_dim' with dtype int32\n",
      "\t [[{{node gradients_split_1_grad_concat_split_1_split_dim}}]]\n",
      "2023-05-24 17:33:13.021723: I tensorflow/core/common_runtime/executor.cc:1197] [/device:CPU:0] (DEBUG INFO) Executor start aborting (this does not indicate an error and you can ignore this message): INVALID_ARGUMENT: You must feed a value for placeholder tensor 'gradients_split_2_grad_concat_split_2_split_dim' with dtype int32\n",
      "\t [[{{node gradients_split_2_grad_concat_split_2_split_dim}}]]\n",
      "2023-05-24 17:33:13.021800: I tensorflow/core/common_runtime/executor.cc:1197] [/device:CPU:0] (DEBUG INFO) Executor start aborting (this does not indicate an error and you can ignore this message): INVALID_ARGUMENT: You must feed a value for placeholder tensor 'gradients_split_grad_concat_split_split_dim' with dtype int32\n",
      "\t [[{{node gradients_split_grad_concat_split_split_dim}}]]\n",
      "2023-05-24 17:33:13.021840: I tensorflow/core/common_runtime/executor.cc:1197] [/device:CPU:0] (DEBUG INFO) Executor start aborting (this does not indicate an error and you can ignore this message): INVALID_ARGUMENT: You must feed a value for placeholder tensor 'gradients_split_1_grad_concat_split_1_split_dim' with dtype int32\n",
      "\t [[{{node gradients_split_1_grad_concat_split_1_split_dim}}]]\n",
      "2023-05-24 17:33:13.052807: I tensorflow/core/common_runtime/executor.cc:1197] [/device:CPU:0] (DEBUG INFO) Executor start aborting (this does not indicate an error and you can ignore this message): INVALID_ARGUMENT: You must feed a value for placeholder tensor 'gradients_split_2_grad_concat_split_2_split_dim' with dtype int32\n",
      "\t [[{{node gradients_split_2_grad_concat_split_2_split_dim}}]]\n",
      "2023-05-24 17:33:13.052882: I tensorflow/core/common_runtime/executor.cc:1197] [/device:CPU:0] (DEBUG INFO) Executor start aborting (this does not indicate an error and you can ignore this message): INVALID_ARGUMENT: You must feed a value for placeholder tensor 'gradients_split_grad_concat_split_split_dim' with dtype int32\n",
      "\t [[{{node gradients_split_grad_concat_split_split_dim}}]]\n",
      "2023-05-24 17:33:13.052922: I tensorflow/core/common_runtime/executor.cc:1197] [/device:CPU:0] (DEBUG INFO) Executor start aborting (this does not indicate an error and you can ignore this message): INVALID_ARGUMENT: You must feed a value for placeholder tensor 'gradients_split_1_grad_concat_split_1_split_dim' with dtype int32\n",
      "\t [[{{node gradients_split_1_grad_concat_split_1_split_dim}}]]\n",
      "2023-05-24 17:33:13.071645: I tensorflow/core/common_runtime/executor.cc:1197] [/device:CPU:0] (DEBUG INFO) Executor start aborting (this does not indicate an error and you can ignore this message): INVALID_ARGUMENT: You must feed a value for placeholder tensor 'gradients_split_2_grad_concat_split_2_split_dim' with dtype int32\n",
      "\t [[{{node gradients_split_2_grad_concat_split_2_split_dim}}]]\n",
      "2023-05-24 17:33:13.071715: I tensorflow/core/common_runtime/executor.cc:1197] [/device:CPU:0] (DEBUG INFO) Executor start aborting (this does not indicate an error and you can ignore this message): INVALID_ARGUMENT: You must feed a value for placeholder tensor 'gradients_split_grad_concat_split_split_dim' with dtype int32\n",
      "\t [[{{node gradients_split_grad_concat_split_split_dim}}]]\n",
      "2023-05-24 17:33:13.071756: I tensorflow/core/common_runtime/executor.cc:1197] [/device:CPU:0] (DEBUG INFO) Executor start aborting (this does not indicate an error and you can ignore this message): INVALID_ARGUMENT: You must feed a value for placeholder tensor 'gradients_split_1_grad_concat_split_1_split_dim' with dtype int32\n",
      "\t [[{{node gradients_split_1_grad_concat_split_1_split_dim}}]]\n",
      "2023-05-24 17:33:13.087348: I tensorflow/core/common_runtime/executor.cc:1197] [/device:CPU:0] (DEBUG INFO) Executor start aborting (this does not indicate an error and you can ignore this message): INVALID_ARGUMENT: You must feed a value for placeholder tensor 'gradients_split_2_grad_concat_split_2_split_dim' with dtype int32\n",
      "\t [[{{node gradients_split_2_grad_concat_split_2_split_dim}}]]\n",
      "2023-05-24 17:33:13.087420: I tensorflow/core/common_runtime/executor.cc:1197] [/device:CPU:0] (DEBUG INFO) Executor start aborting (this does not indicate an error and you can ignore this message): INVALID_ARGUMENT: You must feed a value for placeholder tensor 'gradients_split_grad_concat_split_split_dim' with dtype int32\n",
      "\t [[{{node gradients_split_grad_concat_split_split_dim}}]]\n",
      "2023-05-24 17:33:13.087459: I tensorflow/core/common_runtime/executor.cc:1197] [/device:CPU:0] (DEBUG INFO) Executor start aborting (this does not indicate an error and you can ignore this message): INVALID_ARGUMENT: You must feed a value for placeholder tensor 'gradients_split_1_grad_concat_split_1_split_dim' with dtype int32\n",
      "\t [[{{node gradients_split_1_grad_concat_split_1_split_dim}}]]\n",
      "2023-05-24 17:33:13.115731: I tensorflow/core/common_runtime/executor.cc:1197] [/device:CPU:0] (DEBUG INFO) Executor start aborting (this does not indicate an error and you can ignore this message): INVALID_ARGUMENT: You must feed a value for placeholder tensor 'gradients_split_2_grad_concat_split_2_split_dim' with dtype int32\n",
      "\t [[{{node gradients_split_2_grad_concat_split_2_split_dim}}]]\n",
      "2023-05-24 17:33:13.115803: I tensorflow/core/common_runtime/executor.cc:1197] [/device:CPU:0] (DEBUG INFO) Executor start aborting (this does not indicate an error and you can ignore this message): INVALID_ARGUMENT: You must feed a value for placeholder tensor 'gradients_split_grad_concat_split_split_dim' with dtype int32\n",
      "\t [[{{node gradients_split_grad_concat_split_split_dim}}]]\n",
      "2023-05-24 17:33:13.115842: I tensorflow/core/common_runtime/executor.cc:1197] [/device:CPU:0] (DEBUG INFO) Executor start aborting (this does not indicate an error and you can ignore this message): INVALID_ARGUMENT: You must feed a value for placeholder tensor 'gradients_split_1_grad_concat_split_1_split_dim' with dtype int32\n",
      "\t [[{{node gradients_split_1_grad_concat_split_1_split_dim}}]]\n",
      "2023-05-24 17:33:13.188397: I tensorflow/core/common_runtime/executor.cc:1197] [/device:CPU:0] (DEBUG INFO) Executor start aborting (this does not indicate an error and you can ignore this message): INVALID_ARGUMENT: You must feed a value for placeholder tensor 'gradients_split_2_grad_concat_split_2_split_dim' with dtype int32\n",
      "\t [[{{node gradients_split_2_grad_concat_split_2_split_dim}}]]\n",
      "2023-05-24 17:33:13.188472: I tensorflow/core/common_runtime/executor.cc:1197] [/device:CPU:0] (DEBUG INFO) Executor start aborting (this does not indicate an error and you can ignore this message): INVALID_ARGUMENT: You must feed a value for placeholder tensor 'gradients_split_grad_concat_split_split_dim' with dtype int32\n",
      "\t [[{{node gradients_split_grad_concat_split_split_dim}}]]\n",
      "2023-05-24 17:33:13.188512: I tensorflow/core/common_runtime/executor.cc:1197] [/device:CPU:0] (DEBUG INFO) Executor start aborting (this does not indicate an error and you can ignore this message): INVALID_ARGUMENT: You must feed a value for placeholder tensor 'gradients_split_1_grad_concat_split_1_split_dim' with dtype int32\n",
      "\t [[{{node gradients_split_1_grad_concat_split_1_split_dim}}]]\n",
      "2023-05-24 17:33:13.203748: I tensorflow/core/common_runtime/executor.cc:1197] [/device:CPU:0] (DEBUG INFO) Executor start aborting (this does not indicate an error and you can ignore this message): INVALID_ARGUMENT: You must feed a value for placeholder tensor 'gradients_split_2_grad_concat_split_2_split_dim' with dtype int32\n",
      "\t [[{{node gradients_split_2_grad_concat_split_2_split_dim}}]]\n",
      "2023-05-24 17:33:13.203821: I tensorflow/core/common_runtime/executor.cc:1197] [/device:CPU:0] (DEBUG INFO) Executor start aborting (this does not indicate an error and you can ignore this message): INVALID_ARGUMENT: You must feed a value for placeholder tensor 'gradients_split_grad_concat_split_split_dim' with dtype int32\n",
      "\t [[{{node gradients_split_grad_concat_split_split_dim}}]]\n",
      "2023-05-24 17:33:13.203862: I tensorflow/core/common_runtime/executor.cc:1197] [/device:CPU:0] (DEBUG INFO) Executor start aborting (this does not indicate an error and you can ignore this message): INVALID_ARGUMENT: You must feed a value for placeholder tensor 'gradients_split_1_grad_concat_split_1_split_dim' with dtype int32\n",
      "\t [[{{node gradients_split_1_grad_concat_split_1_split_dim}}]]\n"
     ]
    },
    {
     "name": "stderr",
     "output_type": "stream",
     "text": [
      "2023-05-24 17:33:13.250484: I tensorflow/core/common_runtime/executor.cc:1197] [/device:CPU:0] (DEBUG INFO) Executor start aborting (this does not indicate an error and you can ignore this message): INVALID_ARGUMENT: You must feed a value for placeholder tensor 'gradients_split_2_grad_concat_split_2_split_dim' with dtype int32\n",
      "\t [[{{node gradients_split_2_grad_concat_split_2_split_dim}}]]\n",
      "2023-05-24 17:33:13.250584: I tensorflow/core/common_runtime/executor.cc:1197] [/device:CPU:0] (DEBUG INFO) Executor start aborting (this does not indicate an error and you can ignore this message): INVALID_ARGUMENT: You must feed a value for placeholder tensor 'gradients_split_grad_concat_split_split_dim' with dtype int32\n",
      "\t [[{{node gradients_split_grad_concat_split_split_dim}}]]\n",
      "2023-05-24 17:33:13.250628: I tensorflow/core/common_runtime/executor.cc:1197] [/device:CPU:0] (DEBUG INFO) Executor start aborting (this does not indicate an error and you can ignore this message): INVALID_ARGUMENT: You must feed a value for placeholder tensor 'gradients_split_1_grad_concat_split_1_split_dim' with dtype int32\n",
      "\t [[{{node gradients_split_1_grad_concat_split_1_split_dim}}]]\n",
      "2023-05-24 17:33:13.261262: I tensorflow/core/common_runtime/executor.cc:1197] [/device:CPU:0] (DEBUG INFO) Executor start aborting (this does not indicate an error and you can ignore this message): INVALID_ARGUMENT: You must feed a value for placeholder tensor 'gradients_split_2_grad_concat_split_2_split_dim' with dtype int32\n",
      "\t [[{{node gradients_split_2_grad_concat_split_2_split_dim}}]]\n",
      "2023-05-24 17:33:13.261365: I tensorflow/core/common_runtime/executor.cc:1197] [/device:CPU:0] (DEBUG INFO) Executor start aborting (this does not indicate an error and you can ignore this message): INVALID_ARGUMENT: You must feed a value for placeholder tensor 'gradients_split_grad_concat_split_split_dim' with dtype int32\n",
      "\t [[{{node gradients_split_grad_concat_split_split_dim}}]]\n",
      "2023-05-24 17:33:13.261432: I tensorflow/core/common_runtime/executor.cc:1197] [/device:CPU:0] (DEBUG INFO) Executor start aborting (this does not indicate an error and you can ignore this message): INVALID_ARGUMENT: You must feed a value for placeholder tensor 'gradients_split_1_grad_concat_split_1_split_dim' with dtype int32\n",
      "\t [[{{node gradients_split_1_grad_concat_split_1_split_dim}}]]\n",
      "2023-05-24 17:33:13.332626: I tensorflow/core/common_runtime/executor.cc:1197] [/device:CPU:0] (DEBUG INFO) Executor start aborting (this does not indicate an error and you can ignore this message): INVALID_ARGUMENT: You must feed a value for placeholder tensor 'gradients_split_2_grad_concat_split_2_split_dim' with dtype int32\n",
      "\t [[{{node gradients_split_2_grad_concat_split_2_split_dim}}]]\n",
      "2023-05-24 17:33:13.332707: I tensorflow/core/common_runtime/executor.cc:1197] [/device:CPU:0] (DEBUG INFO) Executor start aborting (this does not indicate an error and you can ignore this message): INVALID_ARGUMENT: You must feed a value for placeholder tensor 'gradients_split_grad_concat_split_split_dim' with dtype int32\n",
      "\t [[{{node gradients_split_grad_concat_split_split_dim}}]]\n",
      "2023-05-24 17:33:13.332747: I tensorflow/core/common_runtime/executor.cc:1197] [/device:CPU:0] (DEBUG INFO) Executor start aborting (this does not indicate an error and you can ignore this message): INVALID_ARGUMENT: You must feed a value for placeholder tensor 'gradients_split_1_grad_concat_split_1_split_dim' with dtype int32\n",
      "\t [[{{node gradients_split_1_grad_concat_split_1_split_dim}}]]\n"
     ]
    }
   ],
   "source": [
    "# save/load model\n",
    "tf.saved_model.save(one_step_model, 'one_step')\n",
    "one_step_reloaded = tf.saved_model.load('one_step')"
   ]
  },
  {
   "cell_type": "code",
   "execution_count": 41,
   "id": "e3897e64",
   "metadata": {},
   "outputs": [
    {
     "name": "stderr",
     "output_type": "stream",
     "text": [
      "2023-05-24 17:33:13.544074: I tensorflow/core/common_runtime/executor.cc:1197] [/device:CPU:0] (DEBUG INFO) Executor start aborting (this does not indicate an error and you can ignore this message): INVALID_ARGUMENT: You must feed a value for placeholder tensor 'inputs' with dtype string and shape [1]\n",
      "\t [[{{node inputs}}]]\n",
      "2023-05-24 17:33:13.702887: I tensorflow/core/common_runtime/executor.cc:1197] [/device:CPU:0] (DEBUG INFO) Executor start aborting (this does not indicate an error and you can ignore this message): INVALID_ARGUMENT: You must feed a value for placeholder tensor 'inputs' with dtype string and shape [1]\n",
      "\t [[{{node inputs}}]]\n",
      "2023-05-24 17:33:13.702975: I tensorflow/core/common_runtime/executor.cc:1197] [/device:CPU:0] (DEBUG INFO) Executor start aborting (this does not indicate an error and you can ignore this message): INVALID_ARGUMENT: You must feed a value for placeholder tensor 'states' with dtype float and shape [1,1024]\n",
      "\t [[{{node states}}]]\n"
     ]
    },
    {
     "name": "stdout",
     "output_type": "stream",
     "text": [
      "day:9 palhanãoseue tabô m — dososerar. dos me Juasuanú  — josema dosem, direis mo; Vê  jos ençãoua El\n",
      " É\n"
     ]
    }
   ],
   "source": [
    "states = None\n",
    "next_char = tf.constant(['day:'])\n",
    "result = [next_char]\n",
    "\n",
    "for n in range(100):\n",
    "  next_char, states = one_step_reloaded.generate_one_step(next_char, states=states)\n",
    "  result.append(next_char)\n",
    "\n",
    "print(tf.strings.join(result)[0].numpy().decode(\"utf-8\"))"
   ]
  },
  {
   "cell_type": "code",
   "execution_count": 42,
   "id": "c67c75c0",
   "metadata": {},
   "outputs": [],
   "source": [
    "class CustomTraining(MyModel):\n",
    "  @tf.function\n",
    "  def train_step(self, inputs):\n",
    "      inputs, labels = inputs\n",
    "      with tf.GradientTape() as tape:\n",
    "          predictions = self(inputs, training=True)\n",
    "          loss = self.loss(labels, predictions)\n",
    "      grads = tape.gradient(loss, model.trainable_variables)\n",
    "      self.optimizer.apply_gradients(zip(grads, model.trainable_variables))\n",
    "\n",
    "      return {'loss': loss}"
   ]
  },
  {
   "cell_type": "code",
   "execution_count": 43,
   "id": "3b8d9767",
   "metadata": {},
   "outputs": [],
   "source": [
    "model = CustomTraining(\n",
    "    vocab_size=len(ids_from_chars.get_vocabulary()),\n",
    "    embedding_dim=embedding_dim,\n",
    "    rnn_units=rnn_units)"
   ]
  },
  {
   "cell_type": "code",
   "execution_count": 44,
   "id": "af74359c",
   "metadata": {},
   "outputs": [],
   "source": [
    "model.compile(optimizer = tf.keras.optimizers.Adam(),\n",
    "              loss=tf.keras.losses.SparseCategoricalCrossentropy(from_logits=True))"
   ]
  },
  {
   "cell_type": "code",
   "execution_count": 45,
   "id": "21d457c0",
   "metadata": {},
   "outputs": [
    {
     "name": "stderr",
     "output_type": "stream",
     "text": [
      "2023-05-24 17:33:14.859860: I tensorflow/core/common_runtime/executor.cc:1197] [/device:CPU:0] (DEBUG INFO) Executor start aborting (this does not indicate an error and you can ignore this message): INVALID_ARGUMENT: You must feed a value for placeholder tensor 'gradients/split_2_grad/concat/split_2/split_dim' with dtype int32\n",
      "\t [[{{node gradients/split_2_grad/concat/split_2/split_dim}}]]\n",
      "2023-05-24 17:33:14.860822: I tensorflow/core/common_runtime/executor.cc:1197] [/device:CPU:0] (DEBUG INFO) Executor start aborting (this does not indicate an error and you can ignore this message): INVALID_ARGUMENT: You must feed a value for placeholder tensor 'gradients/split_grad/concat/split/split_dim' with dtype int32\n",
      "\t [[{{node gradients/split_grad/concat/split/split_dim}}]]\n",
      "2023-05-24 17:33:14.861526: I tensorflow/core/common_runtime/executor.cc:1197] [/device:CPU:0] (DEBUG INFO) Executor start aborting (this does not indicate an error and you can ignore this message): INVALID_ARGUMENT: You must feed a value for placeholder tensor 'gradients/split_1_grad/concat/split_1/split_dim' with dtype int32\n",
      "\t [[{{node gradients/split_1_grad/concat/split_1/split_dim}}]]\n",
      "2023-05-24 17:33:15.513110: I tensorflow/core/common_runtime/executor.cc:1197] [/device:CPU:0] (DEBUG INFO) Executor start aborting (this does not indicate an error and you can ignore this message): INVALID_ARGUMENT: You must feed a value for placeholder tensor 'gradients/split_2_grad/concat/split_2/split_dim' with dtype int32\n",
      "\t [[{{node gradients/split_2_grad/concat/split_2/split_dim}}]]\n",
      "2023-05-24 17:33:15.513991: I tensorflow/core/common_runtime/executor.cc:1197] [/device:CPU:0] (DEBUG INFO) Executor start aborting (this does not indicate an error and you can ignore this message): INVALID_ARGUMENT: You must feed a value for placeholder tensor 'gradients/split_grad/concat/split/split_dim' with dtype int32\n",
      "\t [[{{node gradients/split_grad/concat/split/split_dim}}]]\n",
      "2023-05-24 17:33:15.514878: I tensorflow/core/common_runtime/executor.cc:1197] [/device:CPU:0] (DEBUG INFO) Executor start aborting (this does not indicate an error and you can ignore this message): INVALID_ARGUMENT: You must feed a value for placeholder tensor 'gradients/split_1_grad/concat/split_1/split_dim' with dtype int32\n",
      "\t [[{{node gradients/split_1_grad/concat/split_1/split_dim}}]]\n",
      "2023-05-24 17:33:15.912760: I tensorflow/core/common_runtime/executor.cc:1197] [/device:CPU:0] (DEBUG INFO) Executor start aborting (this does not indicate an error and you can ignore this message): INVALID_ARGUMENT: You must feed a value for placeholder tensor 'gradients/split_2_grad/concat/split_2/split_dim' with dtype int32\n",
      "\t [[{{node gradients/split_2_grad/concat/split_2/split_dim}}]]\n",
      "2023-05-24 17:33:15.913409: I tensorflow/core/common_runtime/executor.cc:1197] [/device:CPU:0] (DEBUG INFO) Executor start aborting (this does not indicate an error and you can ignore this message): INVALID_ARGUMENT: You must feed a value for placeholder tensor 'gradients/split_grad/concat/split/split_dim' with dtype int32\n",
      "\t [[{{node gradients/split_grad/concat/split/split_dim}}]]\n",
      "2023-05-24 17:33:15.914276: I tensorflow/core/common_runtime/executor.cc:1197] [/device:CPU:0] (DEBUG INFO) Executor start aborting (this does not indicate an error and you can ignore this message): INVALID_ARGUMENT: You must feed a value for placeholder tensor 'gradients/split_1_grad/concat/split_1/split_dim' with dtype int32\n",
      "\t [[{{node gradients/split_1_grad/concat/split_1/split_dim}}]]\n",
      "2023-05-24 17:33:15.994514: I tensorflow/core/common_runtime/executor.cc:1197] [/device:CPU:0] (DEBUG INFO) Executor start aborting (this does not indicate an error and you can ignore this message): INVALID_ARGUMENT: You must feed a value for placeholder tensor 'gradients/split_2_grad/concat/split_2/split_dim' with dtype int32\n",
      "\t [[{{node gradients/split_2_grad/concat/split_2/split_dim}}]]\n",
      "2023-05-24 17:33:15.995234: I tensorflow/core/common_runtime/executor.cc:1197] [/device:CPU:0] (DEBUG INFO) Executor start aborting (this does not indicate an error and you can ignore this message): INVALID_ARGUMENT: You must feed a value for placeholder tensor 'gradients/split_grad/concat/split/split_dim' with dtype int32\n",
      "\t [[{{node gradients/split_grad/concat/split/split_dim}}]]\n",
      "2023-05-24 17:33:15.995842: I tensorflow/core/common_runtime/executor.cc:1197] [/device:CPU:0] (DEBUG INFO) Executor start aborting (this does not indicate an error and you can ignore this message): INVALID_ARGUMENT: You must feed a value for placeholder tensor 'gradients/split_1_grad/concat/split_1/split_dim' with dtype int32\n",
      "\t [[{{node gradients/split_1_grad/concat/split_1/split_dim}}]]\n"
     ]
    },
    {
     "name": "stdout",
     "output_type": "stream",
     "text": [
      "14/14 [==============================] - 10s 541ms/step - loss: 4.3118\n"
     ]
    },
    {
     "data": {
      "text/plain": [
       "<keras.callbacks.History at 0x7f89d86cf5b0>"
      ]
     },
     "execution_count": 45,
     "metadata": {},
     "output_type": "execute_result"
    }
   ],
   "source": [
    "model.fit(dataset, epochs=1)"
   ]
  },
  {
   "cell_type": "code",
   "execution_count": 46,
   "id": "d89a039d",
   "metadata": {},
   "outputs": [
    {
     "name": "stderr",
     "output_type": "stream",
     "text": [
      "2023-05-24 17:33:24.383920: I tensorflow/core/common_runtime/executor.cc:1197] [/device:CPU:0] (DEBUG INFO) Executor start aborting (this does not indicate an error and you can ignore this message): INVALID_ARGUMENT: You must feed a value for placeholder tensor 'gradients/split_2_grad/concat/split_2/split_dim' with dtype int32\n",
      "\t [[{{node gradients/split_2_grad/concat/split_2/split_dim}}]]\n",
      "2023-05-24 17:33:24.385567: I tensorflow/core/common_runtime/executor.cc:1197] [/device:CPU:0] (DEBUG INFO) Executor start aborting (this does not indicate an error and you can ignore this message): INVALID_ARGUMENT: You must feed a value for placeholder tensor 'gradients/split_grad/concat/split/split_dim' with dtype int32\n",
      "\t [[{{node gradients/split_grad/concat/split/split_dim}}]]\n",
      "2023-05-24 17:33:24.386315: I tensorflow/core/common_runtime/executor.cc:1197] [/device:CPU:0] (DEBUG INFO) Executor start aborting (this does not indicate an error and you can ignore this message): INVALID_ARGUMENT: You must feed a value for placeholder tensor 'gradients/split_1_grad/concat/split_1/split_dim' with dtype int32\n",
      "\t [[{{node gradients/split_1_grad/concat/split_1/split_dim}}]]\n",
      "2023-05-24 17:33:24.467230: I tensorflow/core/common_runtime/executor.cc:1197] [/device:CPU:0] (DEBUG INFO) Executor start aborting (this does not indicate an error and you can ignore this message): INVALID_ARGUMENT: You must feed a value for placeholder tensor 'gradients/split_2_grad/concat/split_2/split_dim' with dtype int32\n",
      "\t [[{{node gradients/split_2_grad/concat/split_2/split_dim}}]]\n",
      "2023-05-24 17:33:24.467945: I tensorflow/core/common_runtime/executor.cc:1197] [/device:CPU:0] (DEBUG INFO) Executor start aborting (this does not indicate an error and you can ignore this message): INVALID_ARGUMENT: You must feed a value for placeholder tensor 'gradients/split_grad/concat/split/split_dim' with dtype int32\n",
      "\t [[{{node gradients/split_grad/concat/split/split_dim}}]]\n",
      "2023-05-24 17:33:24.468571: I tensorflow/core/common_runtime/executor.cc:1197] [/device:CPU:0] (DEBUG INFO) Executor start aborting (this does not indicate an error and you can ignore this message): INVALID_ARGUMENT: You must feed a value for placeholder tensor 'gradients/split_1_grad/concat/split_1/split_dim' with dtype int32\n",
      "\t [[{{node gradients/split_1_grad/concat/split_1/split_dim}}]]\n"
     ]
    },
    {
     "name": "stdout",
     "output_type": "stream",
     "text": [
      "Epoch 1 Batch 0 Loss 3.5683\n",
      "\n",
      "Epoch 1 Loss: 3.2791\n",
      "Time taken for 1 epoch 8.40 sec\n",
      "________________________________________________________________________________\n",
      "Epoch 2 Batch 0 Loss 3.1522\n",
      "\n",
      "Epoch 2 Loss: 3.0213\n",
      "Time taken for 1 epoch 7.66 sec\n",
      "________________________________________________________________________________\n",
      "Epoch 3 Batch 0 Loss 2.8516\n",
      "\n",
      "Epoch 3 Loss: 2.7172\n",
      "Time taken for 1 epoch 7.67 sec\n",
      "________________________________________________________________________________\n",
      "Epoch 4 Batch 0 Loss 2.5350\n",
      "\n",
      "Epoch 4 Loss: 2.4726\n",
      "Time taken for 1 epoch 7.67 sec\n",
      "________________________________________________________________________________\n",
      "Epoch 5 Batch 0 Loss 2.3748\n",
      "\n",
      "Epoch 5 Loss: 2.3171\n",
      "Time taken for 1 epoch 7.93 sec\n",
      "________________________________________________________________________________\n",
      "Epoch 6 Batch 0 Loss 2.2553\n",
      "\n",
      "Epoch 6 Loss: 2.2052\n",
      "Time taken for 1 epoch 7.67 sec\n",
      "________________________________________________________________________________\n",
      "Epoch 7 Batch 0 Loss 2.1594\n",
      "\n",
      "Epoch 7 Loss: 2.1089\n",
      "Time taken for 1 epoch 7.67 sec\n",
      "________________________________________________________________________________\n",
      "Epoch 8 Batch 0 Loss 2.0632\n",
      "\n",
      "Epoch 8 Loss: 2.0251\n",
      "Time taken for 1 epoch 7.67 sec\n",
      "________________________________________________________________________________\n",
      "Epoch 9 Batch 0 Loss 1.9886\n",
      "\n",
      "Epoch 9 Loss: 1.9515\n",
      "Time taken for 1 epoch 7.67 sec\n",
      "________________________________________________________________________________\n",
      "Epoch 10 Batch 0 Loss 1.9039\n",
      "\n",
      "Epoch 10 Loss: 1.8763\n",
      "Time taken for 1 epoch 7.94 sec\n",
      "________________________________________________________________________________\n"
     ]
    }
   ],
   "source": [
    "EPOCHS = 10\n",
    "\n",
    "mean = tf.metrics.Mean()\n",
    "\n",
    "for epoch in range(EPOCHS):\n",
    "    start = time.time()\n",
    "\n",
    "    mean.reset_states()\n",
    "    for (batch_n, (inp, target)) in enumerate(dataset):\n",
    "        logs = model.train_step([inp, target])\n",
    "        mean.update_state(logs['loss'])\n",
    "\n",
    "        if batch_n % 50 == 0:\n",
    "            template = f\"Epoch {epoch+1} Batch {batch_n} Loss {logs['loss']:.4f}\"\n",
    "            print(template)\n",
    "\n",
    "    # saving (checkpoint) the model every 5 epochs\n",
    "    if (epoch + 1) % 5 == 0:\n",
    "        model.save_weights(checkpoint_prefix.format(epoch=epoch))\n",
    "\n",
    "    print()\n",
    "    print(f'Epoch {epoch+1} Loss: {mean.result().numpy():.4f}')\n",
    "    print(f'Time taken for 1 epoch {time.time() - start:.2f} sec')\n",
    "    print(\"_\"*80)\n",
    "\n",
    "model.save_weights(checkpoint_prefix.format(epoch=epoch))"
   ]
  }
 ],
 "metadata": {
  "kernelspec": {
   "display_name": "Python (tf2)",
   "language": "python",
   "name": "tf2"
  },
  "language_info": {
   "codemirror_mode": {
    "name": "ipython",
    "version": 3
   },
   "file_extension": ".py",
   "mimetype": "text/x-python",
   "name": "python",
   "nbconvert_exporter": "python",
   "pygments_lexer": "ipython3",
   "version": "3.9.16"
  }
 },
 "nbformat": 4,
 "nbformat_minor": 5
}
