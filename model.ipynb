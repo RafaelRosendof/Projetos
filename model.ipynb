{
 "cells": [
  {
   "cell_type": "code",
   "execution_count": 1,
   "metadata": {},
   "outputs": [],
   "source": [
    "import torch\n",
    "import numpy as np\n",
    "from scipy.special import softmax\n",
    "import os\n",
    "import glob"
   ]
  },
  {
   "cell_type": "code",
   "execution_count": 2,
   "metadata": {},
   "outputs": [
    {
     "name": "stdout",
     "output_type": "stream",
     "text": [
      "/home/rafaelrosendo/Pytorch_trabs/audiocodes2speech_dim0494/train/JornalNacional_04_00109.pth\n"
     ]
    }
   ],
   "source": [
    "def get_pth_files(dataset_path):\n",
    "   pth_files = []\n",
    "   for root, dirs, files in os.walk(dataset_path):\n",
    "       for file in files:\n",
    "           if file.endswith(\".pth\"):\n",
    "               pth_files.append(os.path.join(root, file))\n",
    "   return pth_files\n",
    "\n",
    "\n",
    "dataset_path = \"/home/rafaelrosendo/Pytorch_trabs/audiocodes2speech_dim0494/train\"\n",
    "\n",
    "pth_files = get_pth_files(dataset_path)\n",
    "print(pth_files[0])"
   ]
  },
  {
   "cell_type": "code",
   "execution_count": 3,
   "metadata": {},
   "outputs": [
    {
     "name": "stdout",
     "output_type": "stream",
     "text": [
      "torch.Size([1, 247])\n"
     ]
    }
   ],
   "source": [
    "codes_list = []\n",
    "for pth_file in pth_files:\n",
    "    #print(pth_file)\n",
    "    codes = torch.load(pth_file,map_location='cpu')\n",
    "   # print(codes.shape)\n",
    "    codes_list.append(codes)\n",
    "print(codes.shape)"
   ]
  },
  {
   "cell_type": "code",
   "execution_count": 4,
   "metadata": {},
   "outputs": [
    {
     "ename": "RuntimeError",
     "evalue": "Given transposed=1, weight of size [1024, 100, 2], expected input[1, 324, 1024] to have 1024 channels, but got 324 channels instead",
     "output_type": "error",
     "traceback": [
      "\u001b[0;31m---------------------------------------------------------------------------\u001b[0m",
      "\u001b[0;31mRuntimeError\u001b[0m                              Traceback (most recent call last)",
      "Cell \u001b[0;32mIn[4], line 17\u001b[0m\n\u001b[1;32m     12\u001b[0m  embeddings \u001b[39m=\u001b[39m emb_layer(codes\u001b[39m.\u001b[39mint())\n\u001b[1;32m     14\u001b[0m  \u001b[39m# Adicionar uma dimensão para corresponder ao formato esperado pela ConvTranspose1d\u001b[39;00m\n\u001b[1;32m     15\u001b[0m \u001b[39m# embeddings = embeddings.unsqueeze(0)\u001b[39;00m\n\u001b[0;32m---> 17\u001b[0m  conv_output \u001b[39m=\u001b[39m conv(embeddings)\n\u001b[1;32m     19\u001b[0m  \u001b[39m# Redimensionar o tensor de saída para [1, 100, num_aleatorio]\u001b[39;00m\n\u001b[1;32m     20\u001b[0m  conv_output \u001b[39m=\u001b[39m conv_output\u001b[39m.\u001b[39msqueeze(\u001b[39m0\u001b[39m)\u001b[39m.\u001b[39mtranspose(\u001b[39m1\u001b[39m, \u001b[39m2\u001b[39m)\n",
      "File \u001b[0;32m~/anaconda3/envs/torch2/lib/python3.9/site-packages/torch/nn/modules/module.py:1501\u001b[0m, in \u001b[0;36mModule._call_impl\u001b[0;34m(self, *args, **kwargs)\u001b[0m\n\u001b[1;32m   1496\u001b[0m \u001b[39m# If we don't have any hooks, we want to skip the rest of the logic in\u001b[39;00m\n\u001b[1;32m   1497\u001b[0m \u001b[39m# this function, and just call forward.\u001b[39;00m\n\u001b[1;32m   1498\u001b[0m \u001b[39mif\u001b[39;00m \u001b[39mnot\u001b[39;00m (\u001b[39mself\u001b[39m\u001b[39m.\u001b[39m_backward_hooks \u001b[39mor\u001b[39;00m \u001b[39mself\u001b[39m\u001b[39m.\u001b[39m_backward_pre_hooks \u001b[39mor\u001b[39;00m \u001b[39mself\u001b[39m\u001b[39m.\u001b[39m_forward_hooks \u001b[39mor\u001b[39;00m \u001b[39mself\u001b[39m\u001b[39m.\u001b[39m_forward_pre_hooks\n\u001b[1;32m   1499\u001b[0m         \u001b[39mor\u001b[39;00m _global_backward_pre_hooks \u001b[39mor\u001b[39;00m _global_backward_hooks\n\u001b[1;32m   1500\u001b[0m         \u001b[39mor\u001b[39;00m _global_forward_hooks \u001b[39mor\u001b[39;00m _global_forward_pre_hooks):\n\u001b[0;32m-> 1501\u001b[0m     \u001b[39mreturn\u001b[39;00m forward_call(\u001b[39m*\u001b[39;49margs, \u001b[39m*\u001b[39;49m\u001b[39m*\u001b[39;49mkwargs)\n\u001b[1;32m   1502\u001b[0m \u001b[39m# Do not call functions when jit is used\u001b[39;00m\n\u001b[1;32m   1503\u001b[0m full_backward_hooks, non_full_backward_hooks \u001b[39m=\u001b[39m [], []\n",
      "File \u001b[0;32m~/anaconda3/envs/torch2/lib/python3.9/site-packages/torch/nn/modules/conv.py:801\u001b[0m, in \u001b[0;36mConvTranspose1d.forward\u001b[0;34m(self, input, output_size)\u001b[0m\n\u001b[1;32m    797\u001b[0m num_spatial_dims \u001b[39m=\u001b[39m \u001b[39m1\u001b[39m\n\u001b[1;32m    798\u001b[0m output_padding \u001b[39m=\u001b[39m \u001b[39mself\u001b[39m\u001b[39m.\u001b[39m_output_padding(\n\u001b[1;32m    799\u001b[0m     \u001b[39minput\u001b[39m, output_size, \u001b[39mself\u001b[39m\u001b[39m.\u001b[39mstride, \u001b[39mself\u001b[39m\u001b[39m.\u001b[39mpadding, \u001b[39mself\u001b[39m\u001b[39m.\u001b[39mkernel_size,  \u001b[39m# type: ignore[arg-type]\u001b[39;00m\n\u001b[1;32m    800\u001b[0m     num_spatial_dims, \u001b[39mself\u001b[39m\u001b[39m.\u001b[39mdilation)  \u001b[39m# type: ignore[arg-type]\u001b[39;00m\n\u001b[0;32m--> 801\u001b[0m \u001b[39mreturn\u001b[39;00m F\u001b[39m.\u001b[39;49mconv_transpose1d(\n\u001b[1;32m    802\u001b[0m     \u001b[39minput\u001b[39;49m, \u001b[39mself\u001b[39;49m\u001b[39m.\u001b[39;49mweight, \u001b[39mself\u001b[39;49m\u001b[39m.\u001b[39;49mbias, \u001b[39mself\u001b[39;49m\u001b[39m.\u001b[39;49mstride, \u001b[39mself\u001b[39;49m\u001b[39m.\u001b[39;49mpadding,\n\u001b[1;32m    803\u001b[0m     output_padding, \u001b[39mself\u001b[39;49m\u001b[39m.\u001b[39;49mgroups, \u001b[39mself\u001b[39;49m\u001b[39m.\u001b[39;49mdilation)\n",
      "\u001b[0;31mRuntimeError\u001b[0m: Given transposed=1, weight of size [1024, 100, 2], expected input[1, 324, 1024] to have 1024 channels, but got 324 channels instead"
     ]
    }
   ],
   "source": [
    "import torch\n",
    "import torch.nn as nn\n",
    "\n",
    "code_emb = []\n",
    "emb_layer = nn.Embedding(8194, 1024)\n",
    "conv = nn.ConvTranspose1d(in_channels=1024, out_channels=100, kernel_size=2, stride=2, bias=False)\n",
    "\n",
    "output_array = []\n",
    "\n",
    "# Colocando em tamanho 100\n",
    "for codes, pth_file in zip(codes_list, pth_files):\n",
    "    embeddings = emb_layer(codes.int())\n",
    "\n",
    "    # Adicionar uma dimensão para corresponder ao formato esperado pela ConvTranspose1d\n",
    "   # embeddings = embeddings.unsqueeze(0)\n",
    "\n",
    "    conv_output = conv(embeddings)\n",
    "\n",
    "    # Redimensionar o tensor de saída para [1, 100, num_aleatorio]\n",
    "    conv_output = conv_output.squeeze(0).transpose(1, 2)\n",
    "\n",
    "    # Verificar se os tamanhos dos tensores correspondem\n",
    "    if output_array:\n",
    "        if conv_output.size(1) != 2 * embeddings.size(1):\n",
    "            # Ajustar o tamanho do tensor problemático para corresponder ao tamanho esperado\n",
    "            conv_output = conv_output[:, :2 * embeddings.size(1), :]\n",
    "            if conv_output.size(1) != 2 * embeddings.size(1):\n",
    "                print(f\"Descartando tensor problemático: {conv_output.size()}\")\n",
    "                continue\n",
    "\n",
    "    # Salvar o resultado no array\n",
    "    output_array.append(conv_output)\n",
    "\n",
    "# Verificar se há tensores na lista de saída\n",
    "if len(output_array) == 0:\n",
    "    print(\"Nenhum tensor válido encontrado.\")\n",
    "else:\n",
    "    # Verificar se todos os tensores têm a mesma dimensão 1\n",
    "    output_size = output_array[0].size(1)\n",
    "    if all(tensor.size(1) == output_size for tensor in output_array):\n",
    "        output_tensor = torch.cat(output_array, dim=0)\n",
    "        print(output_tensor.shape)\n",
    "    else:\n",
    "        print(\"As dimensões dos tensores na lista de saída não correspondem.\")"
   ]
  },
  {
   "cell_type": "code",
   "execution_count": 5,
   "metadata": {},
   "outputs": [
    {
     "name": "stdout",
     "output_type": "stream",
     "text": [
      "As dimensões dos tensores na lista de saída não correspondem.\n"
     ]
    }
   ],
   "source": [
    "import torch\n",
    "import torch.nn as nn\n",
    "\n",
    "code_emb = []\n",
    "emb_layer = nn.Embedding(8194, 1024)\n",
    "\n",
    "output_array = []\n",
    "\n",
    "# Colocando em tamanho 100\n",
    "for codes, pth_file in zip(codes_list, pth_files):\n",
    "    embeddings = emb_layer(codes.int())\n",
    "\n",
    "    conv = nn.ConvTranspose1d(in_channels=embeddings.size(2), out_channels=100, kernel_size=2, stride=2, bias=False)\n",
    "\n",
    "    conv_output = conv(embeddings.transpose(1, 2))\n",
    "\n",
    "    # Redimensionar o tensor de saída para [1, 100, num_aleatorio]\n",
    "    conv_output = conv_output.transpose(1, 2)\n",
    "\n",
    "    # Verificar se os tamanhos dos tensores correspondem\n",
    "    if output_array:\n",
    "        if conv_output.size(1) != 2 * embeddings.size(1):\n",
    "            # Ajustar o tamanho do tensor problemático para corresponder ao tamanho esperado\n",
    "            conv_output = conv_output[:, :2 * embeddings.size(1), :]\n",
    "            if conv_output.size(1) != 2 * embeddings.size(1):\n",
    "                print(f\"Descartando tensor problemático: {conv_output.size()}\")\n",
    "                continue\n",
    "\n",
    "    # Salvar o resultado no array\n",
    "    output_array.append(conv_output)\n",
    "\n",
    "# Verificar se há tensores na lista de saída\n",
    "if len(output_array) == 0:\n",
    "    print(\"Nenhum tensor válido encontrado.\")\n",
    "else:\n",
    "    # Verificar se todos os tensores têm a mesma dimensão 1\n",
    "    output_size = output_array[0].size(1) \n",
    "    if all(tensor.size(1) == output_size for tensor in output_array):\n",
    "        output_tensor = torch.cat(output_array, dim=0)\n",
    "        print(output_tensor.shape)\n",
    "    else:\n",
    "        print(\"As dimensões dos tensores na lista de saída não correspondem.\")"
   ]
  }
 ],
 "metadata": {
  "kernelspec": {
   "display_name": "torch2",
   "language": "python",
   "name": "python3"
  },
  "language_info": {
   "codemirror_mode": {
    "name": "ipython",
    "version": 3
   },
   "file_extension": ".py",
   "mimetype": "text/x-python",
   "name": "python",
   "nbconvert_exporter": "python",
   "pygments_lexer": "ipython3",
   "version": "3.9.16"
  },
  "orig_nbformat": 4
 },
 "nbformat": 4,
 "nbformat_minor": 2
}
