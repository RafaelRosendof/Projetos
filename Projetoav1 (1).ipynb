{
  "cells": [
    {
      "cell_type": "code",
      "execution_count": 40,
      "metadata": {
        "id": "nl3Y_drb1rWD"
      },
      "outputs": [],
      "source": [
        "#imports\n",
        "import tensorflow as tf\n",
        "import pandas as pd\n",
        "import numpy as np\n",
        "import matplotlib.pyplot as plt\n",
        "from sklearn.model_selection import train_test_split\n",
        "from sklearn.metrics import confusion_matrix\n",
        "from tensorflow.keras.preprocessing.image import ImageDataGenerator\n"
      ]
    },
    {
      "cell_type": "code",
      "source": [
        "from google.colab import drive\n",
        "drive.mount('/content/drive')\n"
      ],
      "metadata": {
        "colab": {
          "base_uri": "https://localhost:8080/"
        },
        "id": "q5TfNY1Eg-Du",
        "outputId": "46ee71fc-574c-4edd-deab-4db09e102062"
      },
      "execution_count": 41,
      "outputs": [
        {
          "output_type": "stream",
          "name": "stdout",
          "text": [
            "Drive already mounted at /content/drive; to attempt to forcibly remount, call drive.mount(\"/content/drive\", force_remount=True).\n"
          ]
        }
      ]
    },
    {
      "cell_type": "code",
      "source": [
        "#modelo de camadas conv2d para reconhecimento de passáros \n",
        "#model of deep learning that provides the rocording of species of birds"
      ],
      "metadata": {
        "id": "OeAhQ2YxhJdn"
      },
      "execution_count": null,
      "outputs": []
    },
    {
      "cell_type": "code",
      "source": [
        "# Definir caminhos para as pastas\n",
        "#Define the ways of the datasets\n",
        "#train_dir = '/content/drive/MyDrive/Colab Notebooks/train'\n",
        "\n",
        "#valid_dir = '/content/drive/MyDrive/Colab Notebooks/valid'\n",
        "#test_dir = '/content/drive/MyDrive/Colab Notebooks/test'\n",
        "\n",
        "\n"
      ],
      "metadata": {
        "id": "9xTXxrXs18aR"
      },
      "execution_count": 42,
      "outputs": []
    },
    {
      "cell_type": "code",
      "source": [
        "# Criar gerador de dados\n",
        "datagen = ImageDataGenerator(rotation_range=20, zoom_range=0.2, width_shift_range=0.2, height_shift_range=0.2, horizontal_flip=True)\n",
        "\n"
      ],
      "metadata": {
        "id": "7K_KD5T418gt"
      },
      "execution_count": 43,
      "outputs": []
    },
    {
      "cell_type": "code",
      "source": [
        "# aqui ta normalizando \n",
        "img_width, img_height = 224, 224"
      ],
      "metadata": {
        "id": "r5h8_JVx18ld"
      },
      "execution_count": 44,
      "outputs": []
    },
    {
      "cell_type": "code",
      "source": [
        "# Definir tamanho do lote\n",
        "batch_size = 8\n"
      ],
      "metadata": {
        "id": "JWwp-Ted18sD"
      },
      "execution_count": 45,
      "outputs": []
    },
    {
      "cell_type": "code",
      "source": [
        "# Gerar dados de treinamento\n",
        "train_generator = datagen.flow_from_directory(\n",
        "    train_dir,\n",
        "    target_size=(img_width, img_height),\n",
        "    batch_size=batch_size,\n",
        "    class_mode='categorical')"
      ],
      "metadata": {
        "colab": {
          "base_uri": "https://localhost:8080/"
        },
        "id": "I3Jl_DMY18yH",
        "outputId": "60ee8522-c118-4d88-d3c0-7506b4c45a19"
      },
      "execution_count": 46,
      "outputs": [
        {
          "output_type": "stream",
          "name": "stdout",
          "text": [
            "Found 82724 images belonging to 515 classes.\n"
          ]
        }
      ]
    },
    {
      "cell_type": "code",
      "source": [
        "# Gerar dados de validação\n",
        "valid_generator = ImageDataGenerator().flow_from_directory(\n",
        "    valid_dir,\n",
        "    target_size=(img_width, img_height),\n",
        "    batch_size=batch_size,\n",
        "    class_mode='categorical')"
      ],
      "metadata": {
        "id": "ZbxBQKfs8VP5",
        "colab": {
          "base_uri": "https://localhost:8080/"
        },
        "outputId": "2fae5f13-3701-415a-9541-74e5dcb3b3d6"
      },
      "execution_count": 47,
      "outputs": [
        {
          "output_type": "stream",
          "name": "stdout",
          "text": [
            "Found 2575 images belonging to 515 classes.\n"
          ]
        }
      ]
    },
    {
      "cell_type": "code",
      "source": [
        "# Gerar dados de teste\n",
        "test_generator = ImageDataGenerator().flow_from_directory(\n",
        "    test_dir,\n",
        "    target_size=(img_width, img_height),\n",
        "    batch_size=batch_size,\n",
        "    class_mode='categorical')\n"
      ],
      "metadata": {
        "id": "dsPVqpQ98VW3",
        "colab": {
          "base_uri": "https://localhost:8080/"
        },
        "outputId": "92f222ce-bab6-40a6-aa3b-a7a37fb6d2c2"
      },
      "execution_count": 48,
      "outputs": [
        {
          "output_type": "stream",
          "name": "stdout",
          "text": [
            "Found 2575 images belonging to 515 classes.\n"
          ]
        }
      ]
    },
    {
      "cell_type": "code",
      "source": [
        "# Construir a rede neural conv2d\n",
        "model = tf.keras.models.Sequential([\n",
        "    tf.keras.layers.Conv2D(32, (3, 3), activation='relu', input_shape=(img_width, img_height, 3)),\n",
        "    tf.keras.layers.MaxPooling2D((2, 2)),\n",
        "    tf.keras.layers.Conv2D(64, (3, 3), activation='relu'),\n",
        "    tf.keras.layers.MaxPooling2D((2, 2)),\n",
        "    tf.keras.layers.Conv2D(128, (3, 3), activation='relu'),\n",
        "    tf.keras.layers.MaxPooling2D((2, 2)),\n",
        "    tf.keras.layers.Flatten(),\n",
        "    tf.keras.layers.Dense(128, activation='relu'),\n",
        "    tf.keras.layers.Dropout(0.5),\n",
        "    tf.keras.layers.Dense(train_generator.num_classes, activation='softmax')\n",
        "])"
      ],
      "metadata": {
        "id": "9JfOlnrj8Vbd"
      },
      "execution_count": 49,
      "outputs": []
    },
    {
      "cell_type": "code",
      "source": [
        "model.compile(optimizer='adam', loss='categorical_crossentropy', metrics=['accuracy'])"
      ],
      "metadata": {
        "id": "pEBGgyYr-oSj"
      },
      "execution_count": 50,
      "outputs": []
    },
    {
      "cell_type": "code",
      "source": [
        "# Treino\n",
        "history = model.fit(train_generator, epochs=2, validation_data=valid_generator)"
      ],
      "metadata": {
        "id": "NoIQYeLc-oVK",
        "colab": {
          "base_uri": "https://localhost:8080/"
        },
        "outputId": "a94553f0-1883-4d40-cd61-f3bacfa4a832"
      },
      "execution_count": null,
      "outputs": [
        {
          "output_type": "stream",
          "name": "stdout",
          "text": [
            "Epoch 1/2\n",
            "  260/10341 [..............................] - ETA: 5:22:56 - loss: 9.8026 - accuracy: 0.0038"
          ]
        }
      ]
    },
    {
      "cell_type": "code",
      "source": [
        "#acuracia\n",
        "test_loss, test_acc = model.evaluate(test_generator)\n",
        "print('Test accuracy:', test_acc)"
      ],
      "metadata": {
        "id": "ljzQgM7x-oX8"
      },
      "execution_count": null,
      "outputs": []
    },
    {
      "cell_type": "code",
      "source": [
        "# Plotar gráficos de acurácia e perda\n",
        "plt.plot(history.history['accuracy'], label='accuracy')\n",
        "plt.plot(history.history['val_accuracy'], label='val_accuracy')\n",
        "plt.xlabel('Epoch')\n",
        "plt.ylabel('Accuracy')\n",
        "plt.ylim([0.5, 1])\n",
        "plt.legend(loc='lower right')\n",
        "plt.show\n",
        "\n"
      ],
      "metadata": {
        "id": "jqeyKcKO-obp"
      },
      "execution_count": null,
      "outputs": []
    }
  ],
  "metadata": {
    "colab": {
      "provenance": []
    },
    "kernelspec": {
      "display_name": "Python 3",
      "name": "python3"
    },
    "language_info": {
      "name": "python"
    },
    "accelerator": "GPU",
    "gpuClass": "standard"
  },
  "nbformat": 4,
  "nbformat_minor": 0
}